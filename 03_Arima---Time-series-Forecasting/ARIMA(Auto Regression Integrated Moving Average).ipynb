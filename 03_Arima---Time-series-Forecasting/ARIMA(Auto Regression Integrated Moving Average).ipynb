{
 "cells": [
  {
   "cell_type": "code",
   "execution_count": 56,
   "id": "c683c8cb",
   "metadata": {
    "scrolled": true
   },
   "outputs": [
    {
     "name": "stdout",
     "output_type": "stream",
     "text": [
      "Requirement already satisfied: pmdarima in /Users/montrelwilson/anaconda3/lib/python3.11/site-packages (2.0.4)\n",
      "Requirement already satisfied: joblib>=0.11 in /Users/montrelwilson/anaconda3/lib/python3.11/site-packages (from pmdarima) (1.2.0)\n",
      "Requirement already satisfied: Cython!=0.29.18,!=0.29.31,>=0.29 in /Users/montrelwilson/anaconda3/lib/python3.11/site-packages (from pmdarima) (3.0.8)\n",
      "Requirement already satisfied: numpy>=1.21.2 in /Users/montrelwilson/anaconda3/lib/python3.11/site-packages (from pmdarima) (1.24.3)\n",
      "Requirement already satisfied: pandas>=0.19 in /Users/montrelwilson/anaconda3/lib/python3.11/site-packages (from pmdarima) (2.0.3)\n",
      "Requirement already satisfied: scikit-learn>=0.22 in /Users/montrelwilson/anaconda3/lib/python3.11/site-packages (from pmdarima) (1.3.0)\n",
      "Requirement already satisfied: scipy>=1.3.2 in /Users/montrelwilson/anaconda3/lib/python3.11/site-packages (from pmdarima) (1.11.1)\n",
      "Requirement already satisfied: statsmodels>=0.13.2 in /Users/montrelwilson/anaconda3/lib/python3.11/site-packages (from pmdarima) (0.14.0)\n",
      "Requirement already satisfied: urllib3 in /Users/montrelwilson/anaconda3/lib/python3.11/site-packages (from pmdarima) (1.26.16)\n",
      "Requirement already satisfied: setuptools!=50.0.0,>=38.6.0 in /Users/montrelwilson/anaconda3/lib/python3.11/site-packages (from pmdarima) (68.0.0)\n",
      "Requirement already satisfied: packaging>=17.1 in /Users/montrelwilson/anaconda3/lib/python3.11/site-packages (from pmdarima) (23.1)\n",
      "Requirement already satisfied: python-dateutil>=2.8.2 in /Users/montrelwilson/anaconda3/lib/python3.11/site-packages (from pandas>=0.19->pmdarima) (2.8.2)\n",
      "Requirement already satisfied: pytz>=2020.1 in /Users/montrelwilson/anaconda3/lib/python3.11/site-packages (from pandas>=0.19->pmdarima) (2023.3.post1)\n",
      "Requirement already satisfied: tzdata>=2022.1 in /Users/montrelwilson/anaconda3/lib/python3.11/site-packages (from pandas>=0.19->pmdarima) (2023.3)\n",
      "Requirement already satisfied: threadpoolctl>=2.0.0 in /Users/montrelwilson/anaconda3/lib/python3.11/site-packages (from scikit-learn>=0.22->pmdarima) (2.2.0)\n",
      "Requirement already satisfied: patsy>=0.5.2 in /Users/montrelwilson/anaconda3/lib/python3.11/site-packages (from statsmodels>=0.13.2->pmdarima) (0.5.3)\n",
      "Requirement already satisfied: six in /Users/montrelwilson/anaconda3/lib/python3.11/site-packages (from patsy>=0.5.2->statsmodels>=0.13.2->pmdarima) (1.16.0)\n",
      "Note: you may need to restart the kernel to use updated packages.\n"
     ]
    }
   ],
   "source": [
    "pip install pmdarima"
   ]
  },
  {
   "cell_type": "code",
   "execution_count": 57,
   "id": "2fe7530b",
   "metadata": {},
   "outputs": [],
   "source": [
    "import pandas as pd\n",
    "import numpy as np"
   ]
  },
  {
   "cell_type": "code",
   "execution_count": 58,
   "id": "ac3f1102",
   "metadata": {
    "scrolled": true
   },
   "outputs": [
    {
     "name": "stdout",
     "output_type": "stream",
     "text": [
      "Shape of data (1821, 5)\n"
     ]
    },
    {
     "data": {
      "text/html": [
       "<div>\n",
       "<style scoped>\n",
       "    .dataframe tbody tr th:only-of-type {\n",
       "        vertical-align: middle;\n",
       "    }\n",
       "\n",
       "    .dataframe tbody tr th {\n",
       "        vertical-align: top;\n",
       "    }\n",
       "\n",
       "    .dataframe thead th {\n",
       "        text-align: right;\n",
       "    }\n",
       "</style>\n",
       "<table border=\"1\" class=\"dataframe\">\n",
       "  <thead>\n",
       "    <tr style=\"text-align: right;\">\n",
       "      <th></th>\n",
       "      <th>MinTemp</th>\n",
       "      <th>MaxTemp</th>\n",
       "      <th>AvgTemp</th>\n",
       "      <th>Sunrise</th>\n",
       "      <th>Sunset</th>\n",
       "    </tr>\n",
       "    <tr>\n",
       "      <th>DATE</th>\n",
       "      <th></th>\n",
       "      <th></th>\n",
       "      <th></th>\n",
       "      <th></th>\n",
       "      <th></th>\n",
       "    </tr>\n",
       "  </thead>\n",
       "  <tbody>\n",
       "    <tr>\n",
       "      <th>2014-01-01</th>\n",
       "      <td>33.0</td>\n",
       "      <td>46.0</td>\n",
       "      <td>40.0</td>\n",
       "      <td>657</td>\n",
       "      <td>1756</td>\n",
       "    </tr>\n",
       "    <tr>\n",
       "      <th>2014-01-02</th>\n",
       "      <td>35.0</td>\n",
       "      <td>50.0</td>\n",
       "      <td>43.0</td>\n",
       "      <td>657</td>\n",
       "      <td>1756</td>\n",
       "    </tr>\n",
       "    <tr>\n",
       "      <th>2014-01-03</th>\n",
       "      <td>36.0</td>\n",
       "      <td>45.0</td>\n",
       "      <td>41.0</td>\n",
       "      <td>657</td>\n",
       "      <td>1757</td>\n",
       "    </tr>\n",
       "    <tr>\n",
       "      <th>2014-01-04</th>\n",
       "      <td>32.0</td>\n",
       "      <td>41.0</td>\n",
       "      <td>37.0</td>\n",
       "      <td>658</td>\n",
       "      <td>1757</td>\n",
       "    </tr>\n",
       "    <tr>\n",
       "      <th>2014-01-05</th>\n",
       "      <td>24.0</td>\n",
       "      <td>38.0</td>\n",
       "      <td>31.0</td>\n",
       "      <td>658</td>\n",
       "      <td>1758</td>\n",
       "    </tr>\n",
       "  </tbody>\n",
       "</table>\n",
       "</div>"
      ],
      "text/plain": [
       "            MinTemp  MaxTemp  AvgTemp  Sunrise  Sunset\n",
       "DATE                                                  \n",
       "2014-01-01     33.0     46.0     40.0      657    1756\n",
       "2014-01-02     35.0     50.0     43.0      657    1756\n",
       "2014-01-03     36.0     45.0     41.0      657    1757\n",
       "2014-01-04     32.0     41.0     37.0      658    1757\n",
       "2014-01-05     24.0     38.0     31.0      658    1758"
      ]
     },
     "execution_count": 58,
     "metadata": {},
     "output_type": "execute_result"
    }
   ],
   "source": [
    "#Read data and make sure dates are indexed\n",
    "df=pd.read_csv('ARIMA/MaunaLoaDailyTemps.csv',index_col='DATE',parse_dates=True)\n",
    "df=df.dropna()\n",
    "print('Shape of data',df.shape)\n",
    "df.head()"
   ]
  },
  {
   "cell_type": "code",
   "execution_count": 59,
   "id": "9e8a88a6",
   "metadata": {},
   "outputs": [
    {
     "data": {
      "text/html": [
       "<div>\n",
       "<style scoped>\n",
       "    .dataframe tbody tr th:only-of-type {\n",
       "        vertical-align: middle;\n",
       "    }\n",
       "\n",
       "    .dataframe tbody tr th {\n",
       "        vertical-align: top;\n",
       "    }\n",
       "\n",
       "    .dataframe thead th {\n",
       "        text-align: right;\n",
       "    }\n",
       "</style>\n",
       "<table border=\"1\" class=\"dataframe\">\n",
       "  <thead>\n",
       "    <tr style=\"text-align: right;\">\n",
       "      <th></th>\n",
       "      <th>MinTemp</th>\n",
       "      <th>MaxTemp</th>\n",
       "      <th>AvgTemp</th>\n",
       "      <th>Sunrise</th>\n",
       "      <th>Sunset</th>\n",
       "    </tr>\n",
       "    <tr>\n",
       "      <th>DATE</th>\n",
       "      <th></th>\n",
       "      <th></th>\n",
       "      <th></th>\n",
       "      <th></th>\n",
       "      <th></th>\n",
       "    </tr>\n",
       "  </thead>\n",
       "  <tbody>\n",
       "    <tr>\n",
       "      <th>2014-01-01</th>\n",
       "      <td>33.0</td>\n",
       "      <td>46.0</td>\n",
       "      <td>40.0</td>\n",
       "      <td>657</td>\n",
       "      <td>1756</td>\n",
       "    </tr>\n",
       "    <tr>\n",
       "      <th>2014-01-02</th>\n",
       "      <td>35.0</td>\n",
       "      <td>50.0</td>\n",
       "      <td>43.0</td>\n",
       "      <td>657</td>\n",
       "      <td>1756</td>\n",
       "    </tr>\n",
       "    <tr>\n",
       "      <th>2014-01-03</th>\n",
       "      <td>36.0</td>\n",
       "      <td>45.0</td>\n",
       "      <td>41.0</td>\n",
       "      <td>657</td>\n",
       "      <td>1757</td>\n",
       "    </tr>\n",
       "    <tr>\n",
       "      <th>2014-01-04</th>\n",
       "      <td>32.0</td>\n",
       "      <td>41.0</td>\n",
       "      <td>37.0</td>\n",
       "      <td>658</td>\n",
       "      <td>1757</td>\n",
       "    </tr>\n",
       "    <tr>\n",
       "      <th>2014-01-05</th>\n",
       "      <td>24.0</td>\n",
       "      <td>38.0</td>\n",
       "      <td>31.0</td>\n",
       "      <td>658</td>\n",
       "      <td>1758</td>\n",
       "    </tr>\n",
       "  </tbody>\n",
       "</table>\n",
       "</div>"
      ],
      "text/plain": [
       "            MinTemp  MaxTemp  AvgTemp  Sunrise  Sunset\n",
       "DATE                                                  \n",
       "2014-01-01     33.0     46.0     40.0      657    1756\n",
       "2014-01-02     35.0     50.0     43.0      657    1756\n",
       "2014-01-03     36.0     45.0     41.0      657    1757\n",
       "2014-01-04     32.0     41.0     37.0      658    1757\n",
       "2014-01-05     24.0     38.0     31.0      658    1758"
      ]
     },
     "execution_count": 59,
     "metadata": {},
     "output_type": "execute_result"
    }
   ],
   "source": [
    "df.head()"
   ]
  },
  {
   "cell_type": "markdown",
   "id": "aedb610b",
   "metadata": {},
   "source": [
    "Plot Your Data"
   ]
  },
  {
   "cell_type": "code",
   "execution_count": 60,
   "id": "158eb0b3",
   "metadata": {},
   "outputs": [
    {
     "data": {
      "text/plain": [
       "<Axes: xlabel='DATE'>"
      ]
     },
     "execution_count": 60,
     "metadata": {},
     "output_type": "execute_result"
    },
    {
     "data": {
      "image/png": "[encoded data removed]",
      "text/plain": [
       "<Figure size 1200x500 with 1 Axes>"
      ]
     },
     "metadata": {},
     "output_type": "display_data"
    }
   ],
   "source": [
    "df['AvgTemp'].plot(figsize=(12,5))"
   ]
  },
  {
   "cell_type": "markdown",
   "id": "4da30542",
   "metadata": {},
   "source": [
    "Check for Stationary"
   ]
  },
  {
   "cell_type": "code",
   "execution_count": 61,
   "id": "f97d274f",
   "metadata": {},
   "outputs": [],
   "source": [
    "from statsmodels.tsa.stattools import adfuller\n",
    "\n",
    "def ad_test(dataset):\n",
    "    dftest = adfuller(dataset,autolag = 'AIC')\n",
    "    print(\"1. ADF : \",dftest[0])\n",
    "    print(\"2. P-Value : \",dftest[1])\n",
    "    print(\"3. Num of Lags : \",dftest[2])\n",
    "    print(\"4. Num of Obeservations Used For ADF Regression and Critical Values Caclculation :\",dftest[3])\n",
    "    print(\"5. Critical Vaues : \")\n",
    "    for key, val in dftest[4].items():\n",
    "        print(\"/t\",key, \": \", val)"
   ]
  },
  {
   "cell_type": "code",
   "execution_count": 62,
   "id": "010214e1",
   "metadata": {},
   "outputs": [
    {
     "name": "stdout",
     "output_type": "stream",
     "text": [
      "1. ADF :  -6.554680125068738\n",
      "2. P-Value :  8.675937480201557e-09\n",
      "3. Num of Lags :  12\n",
      "4. Num of Obeservations Used For ADF Regression and Critical Values Caclculation : 1808\n",
      "5. Critical Vaues : \n",
      "/t 1% :  -3.433972018026501\n",
      "/t 5% :  -2.8631399192826676\n",
      "/t 10% :  -2.5676217442756872\n"
     ]
    }
   ],
   "source": [
    "ad_test(df['AvgTemp'])  #If the p-value is high it means the dataset is not stationary"
   ]
  },
  {
   "cell_type": "markdown",
   "id": "91ad4ce3",
   "metadata": {},
   "source": [
    "Figure out the order for ARIMA model"
   ]
  },
  {
   "cell_type": "code",
   "execution_count": 63,
   "id": "382517cf",
   "metadata": {},
   "outputs": [],
   "source": [
    "from pmdarima import auto_arima \n",
    " #Ignore Harmless Warnings\n",
    "import warnings\n",
    "warnings.filterwarnings(\"ignore\")"
   ]
  },
  {
   "cell_type": "code",
   "execution_count": 64,
   "id": "df4d4b8d",
   "metadata": {},
   "outputs": [
    {
     "name": "stdout",
     "output_type": "stream",
     "text": [
      "Performing stepwise search to minimize aic\n",
      " ARIMA(2,0,2)(0,0,0)[0] intercept   : AIC=8344.145, Time=0.97 sec\n",
      " ARIMA(0,0,0)(0,0,0)[0] intercept   : AIC=10347.755, Time=0.02 sec\n",
      " ARIMA(1,0,0)(0,0,0)[0] intercept   : AIC=8365.701, Time=0.09 sec\n",
      " ARIMA(0,0,1)(0,0,0)[0] intercept   : AIC=9136.225, Time=0.11 sec\n",
      " ARIMA(0,0,0)(0,0,0)[0]             : AIC=19192.139, Time=0.01 sec\n",
      " ARIMA(1,0,2)(0,0,0)[0] intercept   : AIC=8355.947, Time=0.59 sec\n",
      " ARIMA(2,0,1)(0,0,0)[0] intercept   : AIC=8356.308, Time=0.72 sec\n",
      " ARIMA(3,0,2)(0,0,0)[0] intercept   : AIC=8347.242, Time=1.04 sec\n",
      " ARIMA(2,0,3)(0,0,0)[0] intercept   : AIC=8317.896, Time=1.05 sec\n",
      " ARIMA(1,0,3)(0,0,0)[0] intercept   : AIC=8330.192, Time=1.10 sec\n",
      " ARIMA(3,0,3)(0,0,0)[0] intercept   : AIC=8310.653, Time=1.24 sec\n",
      " ARIMA(4,0,3)(0,0,0)[0] intercept   : AIC=8332.393, Time=1.54 sec\n",
      " ARIMA(3,0,4)(0,0,0)[0] intercept   : AIC=8317.555, Time=2.12 sec\n",
      " ARIMA(2,0,4)(0,0,0)[0] intercept   : AIC=8305.937, Time=1.79 sec\n",
      " ARIMA(1,0,4)(0,0,0)[0] intercept   : AIC=8296.797, Time=1.78 sec\n",
      " ARIMA(0,0,4)(0,0,0)[0] intercept   : AIC=8455.435, Time=0.47 sec\n",
      " ARIMA(1,0,5)(0,0,0)[0] intercept   : AIC=8295.512, Time=2.04 sec\n",
      " ARIMA(0,0,5)(0,0,0)[0] intercept   : AIC=8419.091, Time=0.61 sec\n",
      " ARIMA(2,0,5)(0,0,0)[0] intercept   : AIC=8302.459, Time=2.18 sec\n",
      " ARIMA(1,0,5)(0,0,0)[0]             : AIC=8304.533, Time=0.21 sec\n",
      "\n",
      "Best model:  ARIMA(1,0,5)(0,0,0)[0] intercept\n",
      "Total fit time: 19.704 seconds\n"
     ]
    },
    {
     "data": {
      "text/html": [
       "<table class=\"simpletable\">\n",
       "<caption>SARIMAX Results</caption>\n",
       "<tr>\n",
       "  <th>Dep. Variable:</th>           <td>y</td>        <th>  No. Observations:  </th>   <td>1821</td>   \n",
       "</tr>\n",
       "<tr>\n",
       "  <th>Model:</th>           <td>SARIMAX(1, 0, 5)</td> <th>  Log Likelihood     </th> <td>-4139.756</td>\n",
       "</tr>\n",
       "<tr>\n",
       "  <th>Date:</th>            <td>Fri, 16 Feb 2024</td> <th>  AIC                </th> <td>8295.512</td> \n",
       "</tr>\n",
       "<tr>\n",
       "  <th>Time:</th>                <td>18:25:54</td>     <th>  BIC                </th> <td>8339.569</td> \n",
       "</tr>\n",
       "<tr>\n",
       "  <th>Sample:</th>                  <td>0</td>        <th>  HQIC               </th> <td>8311.766</td> \n",
       "</tr>\n",
       "<tr>\n",
       "  <th></th>                      <td> - 1821</td>     <th>                     </th>     <td> </td>    \n",
       "</tr>\n",
       "<tr>\n",
       "  <th>Covariance Type:</th>        <td>opg</td>       <th>                     </th>     <td> </td>    \n",
       "</tr>\n",
       "</table>\n",
       "<table class=\"simpletable\">\n",
       "<tr>\n",
       "      <td></td>         <th>coef</th>     <th>std err</th>      <th>z</th>      <th>P>|z|</th>  <th>[0.025</th>    <th>0.975]</th>  \n",
       "</tr>\n",
       "<tr>\n",
       "  <th>intercept</th> <td>    1.2594</td> <td>    0.375</td> <td>    3.357</td> <td> 0.001</td> <td>    0.524</td> <td>    1.995</td>\n",
       "</tr>\n",
       "<tr>\n",
       "  <th>ar.L1</th>     <td>    0.9728</td> <td>    0.008</td> <td>  120.068</td> <td> 0.000</td> <td>    0.957</td> <td>    0.989</td>\n",
       "</tr>\n",
       "<tr>\n",
       "  <th>ma.L1</th>     <td>   -0.1241</td> <td>    0.024</td> <td>   -5.196</td> <td> 0.000</td> <td>   -0.171</td> <td>   -0.077</td>\n",
       "</tr>\n",
       "<tr>\n",
       "  <th>ma.L2</th>     <td>   -0.2181</td> <td>    0.024</td> <td>   -8.975</td> <td> 0.000</td> <td>   -0.266</td> <td>   -0.170</td>\n",
       "</tr>\n",
       "<tr>\n",
       "  <th>ma.L3</th>     <td>   -0.2053</td> <td>    0.024</td> <td>   -8.543</td> <td> 0.000</td> <td>   -0.252</td> <td>   -0.158</td>\n",
       "</tr>\n",
       "<tr>\n",
       "  <th>ma.L4</th>     <td>   -0.1373</td> <td>    0.023</td> <td>   -5.997</td> <td> 0.000</td> <td>   -0.182</td> <td>   -0.092</td>\n",
       "</tr>\n",
       "<tr>\n",
       "  <th>ma.L5</th>     <td>   -0.0482</td> <td>    0.025</td> <td>   -1.967</td> <td> 0.049</td> <td>   -0.096</td> <td>   -0.000</td>\n",
       "</tr>\n",
       "<tr>\n",
       "  <th>sigma2</th>    <td>    5.5223</td> <td>    0.174</td> <td>   31.814</td> <td> 0.000</td> <td>    5.182</td> <td>    5.863</td>\n",
       "</tr>\n",
       "</table>\n",
       "<table class=\"simpletable\">\n",
       "<tr>\n",
       "  <th>Ljung-Box (L1) (Q):</th>     <td>0.00</td> <th>  Jarque-Bera (JB):  </th> <td>20.68</td>\n",
       "</tr>\n",
       "<tr>\n",
       "  <th>Prob(Q):</th>                <td>0.98</td> <th>  Prob(JB):          </th> <td>0.00</td> \n",
       "</tr>\n",
       "<tr>\n",
       "  <th>Heteroskedasticity (H):</th> <td>0.81</td> <th>  Skew:              </th> <td>-0.17</td>\n",
       "</tr>\n",
       "<tr>\n",
       "  <th>Prob(H) (two-sided):</th>    <td>0.01</td> <th>  Kurtosis:          </th> <td>3.39</td> \n",
       "</tr>\n",
       "</table><br/><br/>Warnings:<br/>[1] Covariance matrix calculated using the outer product of gradients (complex-step)."
      ],
      "text/latex": [
       "\\begin{center}\n",
       "\\begin{tabular}{lclc}\n",
       "\\toprule\n",
       "\\textbf{Dep. Variable:}          &        y         & \\textbf{  No. Observations:  } &    1821     \\\\\n",
       "\\textbf{Model:}                  & SARIMAX(1, 0, 5) & \\textbf{  Log Likelihood     } & -4139.756   \\\\\n",
       "\\textbf{Date:}                   & Fri, 16 Feb 2024 & \\textbf{  AIC                } &  8295.512   \\\\\n",
       "\\textbf{Time:}                   &     18:25:54     & \\textbf{  BIC                } &  8339.569   \\\\\n",
       "\\textbf{Sample:}                 &        0         & \\textbf{  HQIC               } &  8311.766   \\\\\n",
       "\\textbf{}                        &      - 1821      & \\textbf{                     } &             \\\\\n",
       "\\textbf{Covariance Type:}        &       opg        & \\textbf{                     } &             \\\\\n",
       "\\bottomrule\n",
       "\\end{tabular}\n",
       "\\begin{tabular}{lcccccc}\n",
       "                   & \\textbf{coef} & \\textbf{std err} & \\textbf{z} & \\textbf{P$> |$z$|$} & \\textbf{[0.025} & \\textbf{0.975]}  \\\\\n",
       "\\midrule\n",
       "\\textbf{intercept} &       1.2594  &        0.375     &     3.357  &         0.001        &        0.524    &        1.995     \\\\\n",
       "\\textbf{ar.L1}     &       0.9728  &        0.008     &   120.068  &         0.000        &        0.957    &        0.989     \\\\\n",
       "\\textbf{ma.L1}     &      -0.1241  &        0.024     &    -5.196  &         0.000        &       -0.171    &       -0.077     \\\\\n",
       "\\textbf{ma.L2}     &      -0.2181  &        0.024     &    -8.975  &         0.000        &       -0.266    &       -0.170     \\\\\n",
       "\\textbf{ma.L3}     &      -0.2053  &        0.024     &    -8.543  &         0.000        &       -0.252    &       -0.158     \\\\\n",
       "\\textbf{ma.L4}     &      -0.1373  &        0.023     &    -5.997  &         0.000        &       -0.182    &       -0.092     \\\\\n",
       "\\textbf{ma.L5}     &      -0.0482  &        0.025     &    -1.967  &         0.049        &       -0.096    &       -0.000     \\\\\n",
       "\\textbf{sigma2}    &       5.5223  &        0.174     &    31.814  &         0.000        &        5.182    &        5.863     \\\\\n",
       "\\bottomrule\n",
       "\\end{tabular}\n",
       "\\begin{tabular}{lclc}\n",
       "\\textbf{Ljung-Box (L1) (Q):}     & 0.00 & \\textbf{  Jarque-Bera (JB):  } & 20.68  \\\\\n",
       "\\textbf{Prob(Q):}                & 0.98 & \\textbf{  Prob(JB):          } &  0.00  \\\\\n",
       "\\textbf{Heteroskedasticity (H):} & 0.81 & \\textbf{  Skew:              } & -0.17  \\\\\n",
       "\\textbf{Prob(H) (two-sided):}    & 0.01 & \\textbf{  Kurtosis:          } &  3.39  \\\\\n",
       "\\bottomrule\n",
       "\\end{tabular}\n",
       "%\\caption{SARIMAX Results}\n",
       "\\end{center}\n",
       "\n",
       "Warnings: \\newline\n",
       " [1] Covariance matrix calculated using the outer product of gradients (complex-step)."
      ],
      "text/plain": [
       "<class 'statsmodels.iolib.summary.Summary'>\n",
       "\"\"\"\n",
       "                               SARIMAX Results                                \n",
       "==============================================================================\n",
       "Dep. Variable:                      y   No. Observations:                 1821\n",
       "Model:               SARIMAX(1, 0, 5)   Log Likelihood               -4139.756\n",
       "Date:                Fri, 16 Feb 2024   AIC                           8295.512\n",
       "Time:                        18:25:54   BIC                           8339.569\n",
       "Sample:                             0   HQIC                          8311.766\n",
       "                               - 1821                                         \n",
       "Covariance Type:                  opg                                         \n",
       "==============================================================================\n",
       "                 coef    std err          z      P>|z|      [0.025      0.975]\n",
       "------------------------------------------------------------------------------\n",
       "intercept      1.2594      0.375      3.357      0.001       0.524       1.995\n",
       "ar.L1          0.9728      0.008    120.068      0.000       0.957       0.989\n",
       "ma.L1         -0.1241      0.024     -5.196      0.000      -0.171      -0.077\n",
       "ma.L2         -0.2181      0.024     -8.975      0.000      -0.266      -0.170\n",
       "ma.L3         -0.2053      0.024     -8.543      0.000      -0.252      -0.158\n",
       "ma.L4         -0.1373      0.023     -5.997      0.000      -0.182      -0.092\n",
       "ma.L5         -0.0482      0.025     -1.967      0.049      -0.096      -0.000\n",
       "sigma2         5.5223      0.174     31.814      0.000       5.182       5.863\n",
       "===================================================================================\n",
       "Ljung-Box (L1) (Q):                   0.00   Jarque-Bera (JB):                20.68\n",
       "Prob(Q):                              0.98   Prob(JB):                         0.00\n",
       "Heteroskedasticity (H):               0.81   Skew:                            -0.17\n",
       "Prob(H) (two-sided):                  0.01   Kurtosis:                         3.39\n",
       "===================================================================================\n",
       "\n",
       "Warnings:\n",
       "[1] Covariance matrix calculated using the outer product of gradients (complex-step).\n",
       "\"\"\""
      ]
     },
     "execution_count": 64,
     "metadata": {},
     "output_type": "execute_result"
    }
   ],
   "source": [
    "stepwise_fit = auto_arima(df['AvgTemp'], trace=True,\n",
    "                               supress_warnings=True)\n",
    "stepwise_fit.summary()"
   ]
  },
  {
   "cell_type": "markdown",
   "id": "1de35884",
   "metadata": {},
   "source": [
    "Now we begin fitting the model "
   ]
  },
  {
   "cell_type": "code",
   "execution_count": 65,
   "id": "b4ed3838",
   "metadata": {},
   "outputs": [],
   "source": [
    "from statsmodels.tsa.arima.model import ARIMA"
   ]
  },
  {
   "cell_type": "markdown",
   "id": "240702a4",
   "metadata": {},
   "source": [
    "Split data into training and testing"
   ]
  },
  {
   "cell_type": "code",
   "execution_count": 66,
   "id": "3325f404",
   "metadata": {},
   "outputs": [
    {
     "name": "stdout",
     "output_type": "stream",
     "text": [
      "(1821, 5)\n",
      "(1791, 5) (30, 5)\n"
     ]
    }
   ],
   "source": [
    "print (df.shape)\n",
    "train=df.iloc[:-30]\n",
    "test=df.iloc[-30:]\n",
    "print(train.shape,test.shape)"
   ]
  },
  {
   "cell_type": "markdown",
   "id": "ace790ce",
   "metadata": {},
   "source": [
    "Train the model"
   ]
  },
  {
   "cell_type": "code",
   "execution_count": 86,
   "id": "922d7f41",
   "metadata": {},
   "outputs": [
    {
     "data": {
      "text/html": [
       "<table class=\"simpletable\">\n",
       "<caption>SARIMAX Results</caption>\n",
       "<tr>\n",
       "  <th>Dep. Variable:</th>        <td>AvgTemp</td>     <th>  No. Observations:  </th>   <td>1791</td>   \n",
       "</tr>\n",
       "<tr>\n",
       "  <th>Model:</th>            <td>ARIMA(1, 0, 5)</td>  <th>  Log Likelihood     </th> <td>-4070.198</td>\n",
       "</tr>\n",
       "<tr>\n",
       "  <th>Date:</th>            <td>Fri, 16 Feb 2024</td> <th>  AIC                </th> <td>8156.395</td> \n",
       "</tr>\n",
       "<tr>\n",
       "  <th>Time:</th>                <td>18:56:16</td>     <th>  BIC                </th> <td>8200.320</td> \n",
       "</tr>\n",
       "<tr>\n",
       "  <th>Sample:</th>                  <td>0</td>        <th>  HQIC               </th> <td>8172.614</td> \n",
       "</tr>\n",
       "<tr>\n",
       "  <th></th>                      <td> - 1791</td>     <th>                     </th>     <td> </td>    \n",
       "</tr>\n",
       "<tr>\n",
       "  <th>Covariance Type:</th>        <td>opg</td>       <th>                     </th>     <td> </td>    \n",
       "</tr>\n",
       "</table>\n",
       "<table class=\"simpletable\">\n",
       "<tr>\n",
       "     <td></td>       <th>coef</th>     <th>std err</th>      <th>z</th>      <th>P>|z|</th>  <th>[0.025</th>    <th>0.975]</th>  \n",
       "</tr>\n",
       "<tr>\n",
       "  <th>const</th>  <td>   46.5856</td> <td>    0.758</td> <td>   61.454</td> <td> 0.000</td> <td>   45.100</td> <td>   48.071</td>\n",
       "</tr>\n",
       "<tr>\n",
       "  <th>ar.L1</th>  <td>    0.9856</td> <td>    0.005</td> <td>  188.230</td> <td> 0.000</td> <td>    0.975</td> <td>    0.996</td>\n",
       "</tr>\n",
       "<tr>\n",
       "  <th>ma.L1</th>  <td>   -0.1412</td> <td>    0.023</td> <td>   -6.124</td> <td> 0.000</td> <td>   -0.186</td> <td>   -0.096</td>\n",
       "</tr>\n",
       "<tr>\n",
       "  <th>ma.L2</th>  <td>   -0.2268</td> <td>    0.024</td> <td>   -9.635</td> <td> 0.000</td> <td>   -0.273</td> <td>   -0.181</td>\n",
       "</tr>\n",
       "<tr>\n",
       "  <th>ma.L3</th>  <td>   -0.2168</td> <td>    0.023</td> <td>   -9.251</td> <td> 0.000</td> <td>   -0.263</td> <td>   -0.171</td>\n",
       "</tr>\n",
       "<tr>\n",
       "  <th>ma.L4</th>  <td>   -0.1479</td> <td>    0.023</td> <td>   -6.491</td> <td> 0.000</td> <td>   -0.193</td> <td>   -0.103</td>\n",
       "</tr>\n",
       "<tr>\n",
       "  <th>ma.L5</th>  <td>   -0.0595</td> <td>    0.024</td> <td>   -2.438</td> <td> 0.015</td> <td>   -0.107</td> <td>   -0.012</td>\n",
       "</tr>\n",
       "<tr>\n",
       "  <th>sigma2</th> <td>    5.5093</td> <td>    0.174</td> <td>   31.624</td> <td> 0.000</td> <td>    5.168</td> <td>    5.851</td>\n",
       "</tr>\n",
       "</table>\n",
       "<table class=\"simpletable\">\n",
       "<tr>\n",
       "  <th>Ljung-Box (L1) (Q):</th>     <td>0.00</td> <th>  Jarque-Bera (JB):  </th> <td>14.88</td>\n",
       "</tr>\n",
       "<tr>\n",
       "  <th>Prob(Q):</th>                <td>0.97</td> <th>  Prob(JB):          </th> <td>0.00</td> \n",
       "</tr>\n",
       "<tr>\n",
       "  <th>Heteroskedasticity (H):</th> <td>0.82</td> <th>  Skew:              </th> <td>-0.15</td>\n",
       "</tr>\n",
       "<tr>\n",
       "  <th>Prob(H) (two-sided):</th>    <td>0.01</td> <th>  Kurtosis:          </th> <td>3.33</td> \n",
       "</tr>\n",
       "</table><br/><br/>Warnings:<br/>[1] Covariance matrix calculated using the outer product of gradients (complex-step)."
      ],
      "text/latex": [
       "\\begin{center}\n",
       "\\begin{tabular}{lclc}\n",
       "\\toprule\n",
       "\\textbf{Dep. Variable:}          &     AvgTemp      & \\textbf{  No. Observations:  } &    1791     \\\\\n",
       "\\textbf{Model:}                  &  ARIMA(1, 0, 5)  & \\textbf{  Log Likelihood     } & -4070.198   \\\\\n",
       "\\textbf{Date:}                   & Fri, 16 Feb 2024 & \\textbf{  AIC                } &  8156.395   \\\\\n",
       "\\textbf{Time:}                   &     18:56:16     & \\textbf{  BIC                } &  8200.320   \\\\\n",
       "\\textbf{Sample:}                 &        0         & \\textbf{  HQIC               } &  8172.614   \\\\\n",
       "\\textbf{}                        &      - 1791      & \\textbf{                     } &             \\\\\n",
       "\\textbf{Covariance Type:}        &       opg        & \\textbf{                     } &             \\\\\n",
       "\\bottomrule\n",
       "\\end{tabular}\n",
       "\\begin{tabular}{lcccccc}\n",
       "                & \\textbf{coef} & \\textbf{std err} & \\textbf{z} & \\textbf{P$> |$z$|$} & \\textbf{[0.025} & \\textbf{0.975]}  \\\\\n",
       "\\midrule\n",
       "\\textbf{const}  &      46.5856  &        0.758     &    61.454  &         0.000        &       45.100    &       48.071     \\\\\n",
       "\\textbf{ar.L1}  &       0.9856  &        0.005     &   188.230  &         0.000        &        0.975    &        0.996     \\\\\n",
       "\\textbf{ma.L1}  &      -0.1412  &        0.023     &    -6.124  &         0.000        &       -0.186    &       -0.096     \\\\\n",
       "\\textbf{ma.L2}  &      -0.2268  &        0.024     &    -9.635  &         0.000        &       -0.273    &       -0.181     \\\\\n",
       "\\textbf{ma.L3}  &      -0.2168  &        0.023     &    -9.251  &         0.000        &       -0.263    &       -0.171     \\\\\n",
       "\\textbf{ma.L4}  &      -0.1479  &        0.023     &    -6.491  &         0.000        &       -0.193    &       -0.103     \\\\\n",
       "\\textbf{ma.L5}  &      -0.0595  &        0.024     &    -2.438  &         0.015        &       -0.107    &       -0.012     \\\\\n",
       "\\textbf{sigma2} &       5.5093  &        0.174     &    31.624  &         0.000        &        5.168    &        5.851     \\\\\n",
       "\\bottomrule\n",
       "\\end{tabular}\n",
       "\\begin{tabular}{lclc}\n",
       "\\textbf{Ljung-Box (L1) (Q):}     & 0.00 & \\textbf{  Jarque-Bera (JB):  } & 14.88  \\\\\n",
       "\\textbf{Prob(Q):}                & 0.97 & \\textbf{  Prob(JB):          } &  0.00  \\\\\n",
       "\\textbf{Heteroskedasticity (H):} & 0.82 & \\textbf{  Skew:              } & -0.15  \\\\\n",
       "\\textbf{Prob(H) (two-sided):}    & 0.01 & \\textbf{  Kurtosis:          } &  3.33  \\\\\n",
       "\\bottomrule\n",
       "\\end{tabular}\n",
       "%\\caption{SARIMAX Results}\n",
       "\\end{center}\n",
       "\n",
       "Warnings: \\newline\n",
       " [1] Covariance matrix calculated using the outer product of gradients (complex-step)."
      ],
      "text/plain": [
       "<class 'statsmodels.iolib.summary.Summary'>\n",
       "\"\"\"\n",
       "                               SARIMAX Results                                \n",
       "==============================================================================\n",
       "Dep. Variable:                AvgTemp   No. Observations:                 1791\n",
       "Model:                 ARIMA(1, 0, 5)   Log Likelihood               -4070.198\n",
       "Date:                Fri, 16 Feb 2024   AIC                           8156.395\n",
       "Time:                        18:56:16   BIC                           8200.320\n",
       "Sample:                             0   HQIC                          8172.614\n",
       "                               - 1791                                         \n",
       "Covariance Type:                  opg                                         \n",
       "==============================================================================\n",
       "                 coef    std err          z      P>|z|      [0.025      0.975]\n",
       "------------------------------------------------------------------------------\n",
       "const         46.5856      0.758     61.454      0.000      45.100      48.071\n",
       "ar.L1          0.9856      0.005    188.230      0.000       0.975       0.996\n",
       "ma.L1         -0.1412      0.023     -6.124      0.000      -0.186      -0.096\n",
       "ma.L2         -0.2268      0.024     -9.635      0.000      -0.273      -0.181\n",
       "ma.L3         -0.2168      0.023     -9.251      0.000      -0.263      -0.171\n",
       "ma.L4         -0.1479      0.023     -6.491      0.000      -0.193      -0.103\n",
       "ma.L5         -0.0595      0.024     -2.438      0.015      -0.107      -0.012\n",
       "sigma2         5.5093      0.174     31.624      0.000       5.168       5.851\n",
       "===================================================================================\n",
       "Ljung-Box (L1) (Q):                   0.00   Jarque-Bera (JB):                14.88\n",
       "Prob(Q):                              0.97   Prob(JB):                         0.00\n",
       "Heteroskedasticity (H):               0.82   Skew:                            -0.15\n",
       "Prob(H) (two-sided):                  0.01   Kurtosis:                         3.33\n",
       "===================================================================================\n",
       "\n",
       "Warnings:\n",
       "[1] Covariance matrix calculated using the outer product of gradients (complex-step).\n",
       "\"\"\""
      ]
     },
     "execution_count": 86,
     "metadata": {},
     "output_type": "execute_result"
    }
   ],
   "source": [
    "model=ARIMA(train['AvgTemp'],order=(1,0,5))\n",
    "model=model.fit()\n",
    "model.summary()"
   ]
  },
  {
   "cell_type": "markdown",
   "id": "a03abb05",
   "metadata": {},
   "source": [
    "Make predicitons on Test Set"
   ]
  },
  {
   "cell_type": "code",
   "execution_count": 87,
   "id": "cb26cea9",
   "metadata": {},
   "outputs": [
    {
     "name": "stdout",
     "output_type": "stream",
     "text": [
      "DATE\n",
      "2018-12-01    44.754109\n",
      "2018-12-02    44.987795\n",
      "2018-12-03    45.388741\n",
      "2018-12-04    45.721546\n",
      "2018-12-05    45.863733\n",
      "2018-12-06    45.874127\n",
      "2018-12-07    45.884370\n",
      "2018-12-08    45.894467\n",
      "2018-12-09    45.904418\n",
      "2018-12-10    45.914225\n",
      "2018-12-11    45.923892\n",
      "2018-12-12    45.933419\n",
      "2018-12-13    45.942809\n",
      "2018-12-14    45.952064\n",
      "2018-12-15    45.961186\n",
      "2018-12-16    45.970176\n",
      "2018-12-17    45.979037\n",
      "2018-12-18    45.987770\n",
      "2018-12-19    45.996378\n",
      "2018-12-20    46.004861\n",
      "2018-12-21    46.013223\n",
      "2018-12-22    46.021464\n",
      "2018-12-23    46.029586\n",
      "2018-12-24    46.037592\n",
      "2018-12-25    46.045482\n",
      "2018-12-26    46.053259\n",
      "2018-12-27    46.060923\n",
      "2018-12-28    46.068478\n",
      "2018-12-29    46.075923\n",
      "2018-12-30    46.083261\n",
      "Name: predicted_mean, dtype: float64\n"
     ]
    },
    {
     "data": {
      "text/plain": [
       "DATE\n",
       "2018-12-26    46.053259\n",
       "2018-12-27    46.060923\n",
       "2018-12-28    46.068478\n",
       "2018-12-29    46.075923\n",
       "2018-12-30    46.083261\n",
       "Name: predicted_mean, dtype: float64"
      ]
     },
     "execution_count": 87,
     "metadata": {},
     "output_type": "execute_result"
    }
   ],
   "source": [
    "start=len(train)\n",
    "end=len(train)+len(test)-1\n",
    "pred=model.predict(start=start,end=end,typ='levels')\n",
    "pred.index=df.index[start:end+1] #To get dates for prediction model\n",
    "print(pred)"
   ]
  },
  {
   "cell_type": "code",
   "execution_count": 73,
   "id": "423215e5",
   "metadata": {
    "scrolled": false
   },
   "outputs": [
    {
     "data": {
      "text/plain": [
       "<Axes: xlabel='DATE'>"
      ]
     },
     "execution_count": 73,
     "metadata": {},
     "output_type": "execute_result"
    },
    {
     "data": {
      "image/png": "[encoded data removed]",
      "text/plain": [
       "<Figure size 640x480 with 1 Axes>"
      ]
     },
     "metadata": {},
     "output_type": "display_data"
    }
   ],
   "source": [
    "pred.plot(legend=True)\n",
    "test['AvgTemp'].plot(legend=True)"
   ]
  },
  {
   "cell_type": "code",
   "execution_count": 89,
   "id": "baf9377f",
   "metadata": {
    "scrolled": true
   },
   "outputs": [
    {
     "data": {
      "text/plain": [
       "45.0"
      ]
     },
     "execution_count": 89,
     "metadata": {},
     "output_type": "execute_result"
    }
   ],
   "source": [
    "test['AvgTemp'].mean()"
   ]
  },
  {
   "cell_type": "code",
   "execution_count": 90,
   "id": "c91786fe",
   "metadata": {},
   "outputs": [
    {
     "data": {
      "text/plain": [
       "45.87761036368276"
      ]
     },
     "execution_count": 90,
     "metadata": {},
     "output_type": "execute_result"
    }
   ],
   "source": [
    "pred.mean()"
   ]
  },
  {
   "cell_type": "code",
   "execution_count": 91,
   "id": "5f3ffae8",
   "metadata": {},
   "outputs": [
    {
     "name": "stdout",
     "output_type": "stream",
     "text": [
      "3.000464012421487\n"
     ]
    }
   ],
   "source": [
    "from sklearn.metrics import mean_squared_error\n",
    "from math import sqrt\n",
    "rmse=sqrt(mean_squared_error(pred,test['AvgTemp']))\n",
    "print(rmse)"
   ]
  },
  {
   "cell_type": "code",
   "execution_count": 76,
   "id": "73c2348c",
   "metadata": {},
   "outputs": [
    {
     "data": {
      "text/html": [
       "<div>\n",
       "<style scoped>\n",
       "    .dataframe tbody tr th:only-of-type {\n",
       "        vertical-align: middle;\n",
       "    }\n",
       "\n",
       "    .dataframe tbody tr th {\n",
       "        vertical-align: top;\n",
       "    }\n",
       "\n",
       "    .dataframe thead th {\n",
       "        text-align: right;\n",
       "    }\n",
       "</style>\n",
       "<table border=\"1\" class=\"dataframe\">\n",
       "  <thead>\n",
       "    <tr style=\"text-align: right;\">\n",
       "      <th></th>\n",
       "      <th>MinTemp</th>\n",
       "      <th>MaxTemp</th>\n",
       "      <th>AvgTemp</th>\n",
       "      <th>Sunrise</th>\n",
       "      <th>Sunset</th>\n",
       "    </tr>\n",
       "    <tr>\n",
       "      <th>DATE</th>\n",
       "      <th></th>\n",
       "      <th></th>\n",
       "      <th></th>\n",
       "      <th></th>\n",
       "      <th></th>\n",
       "    </tr>\n",
       "  </thead>\n",
       "  <tbody>\n",
       "    <tr>\n",
       "      <th>2018-12-26</th>\n",
       "      <td>35.0</td>\n",
       "      <td>45.0</td>\n",
       "      <td>40.0</td>\n",
       "      <td>654</td>\n",
       "      <td>1752</td>\n",
       "    </tr>\n",
       "    <tr>\n",
       "      <th>2018-12-27</th>\n",
       "      <td>33.0</td>\n",
       "      <td>44.0</td>\n",
       "      <td>39.0</td>\n",
       "      <td>655</td>\n",
       "      <td>1752</td>\n",
       "    </tr>\n",
       "    <tr>\n",
       "      <th>2018-12-28</th>\n",
       "      <td>33.0</td>\n",
       "      <td>47.0</td>\n",
       "      <td>40.0</td>\n",
       "      <td>655</td>\n",
       "      <td>1753</td>\n",
       "    </tr>\n",
       "    <tr>\n",
       "      <th>2018-12-29</th>\n",
       "      <td>36.0</td>\n",
       "      <td>47.0</td>\n",
       "      <td>42.0</td>\n",
       "      <td>655</td>\n",
       "      <td>1753</td>\n",
       "    </tr>\n",
       "    <tr>\n",
       "      <th>2018-12-30</th>\n",
       "      <td>39.0</td>\n",
       "      <td>52.0</td>\n",
       "      <td>46.0</td>\n",
       "      <td>656</td>\n",
       "      <td>1754</td>\n",
       "    </tr>\n",
       "  </tbody>\n",
       "</table>\n",
       "</div>"
      ],
      "text/plain": [
       "            MinTemp  MaxTemp  AvgTemp  Sunrise  Sunset\n",
       "DATE                                                  \n",
       "2018-12-26     35.0     45.0     40.0      654    1752\n",
       "2018-12-27     33.0     44.0     39.0      655    1752\n",
       "2018-12-28     33.0     47.0     40.0      655    1753\n",
       "2018-12-29     36.0     47.0     42.0      655    1753\n",
       "2018-12-30     39.0     52.0     46.0      656    1754"
      ]
     },
     "execution_count": 76,
     "metadata": {},
     "output_type": "execute_result"
    }
   ],
   "source": [
    "model2=ARIMA(df['AvgTemp'],order=(1,0,5))\n",
    "model2=model2.fit()\n",
    "df.tail()"
   ]
  },
  {
   "cell_type": "markdown",
   "id": "83cc208e",
   "metadata": {},
   "source": [
    "For Future dates"
   ]
  },
  {
   "cell_type": "code",
   "execution_count": 84,
   "id": "c3ddb2b3",
   "metadata": {},
   "outputs": [
    {
     "name": "stdout",
     "output_type": "stream",
     "text": [
      "2018-12-30    46.418166\n",
      "2018-12-31    46.113912\n",
      "2019-01-01    45.617874\n",
      "2019-01-02    45.249566\n",
      "2019-01-03    45.116916\n",
      "2019-01-04    45.136666\n",
      "2019-01-05    45.156140\n",
      "2019-01-06    45.175342\n",
      "2019-01-07    45.194275\n",
      "2019-01-08    45.212943\n",
      "2019-01-09    45.231349\n",
      "2019-01-10    45.249499\n",
      "2019-01-11    45.267394\n",
      "2019-01-12    45.285039\n",
      "2019-01-13    45.302437\n",
      "2019-01-14    45.319591\n",
      "2019-01-15    45.336506\n",
      "2019-01-16    45.353184\n",
      "2019-01-17    45.369628\n",
      "2019-01-18    45.385843\n",
      "2019-01-19    45.401830\n",
      "2019-01-20    45.417594\n",
      "2019-01-21    45.433137\n",
      "2019-01-22    45.448463\n",
      "2019-01-23    45.463574\n",
      "2019-01-24    45.478474\n",
      "2019-01-25    45.493166\n",
      "2019-01-26    45.507652\n",
      "2019-01-27    45.521935\n",
      "2019-01-28    45.536018\n",
      "2019-01-29    45.549904\n",
      "Freq: D, Name: ARIMA Predictions, dtype: float64\n"
     ]
    }
   ],
   "source": [
    "index_future_dates=pd.date_range(start='2018-12-30',end='2019-01-29')\n",
    "pred=model2.predict(start=len(df),end=len(df)+30,typ='levels').rename('ARIMA Predictions')\n",
    "pred.index=index_future_dates#To get dates for prediction model\n",
    "print(pred)"
   ]
  },
  {
   "cell_type": "code",
   "execution_count": 83,
   "id": "da50aedb",
   "metadata": {},
   "outputs": [
    {
     "data": {
      "text/plain": [
       "<Axes: >"
      ]
     },
     "execution_count": 83,
     "metadata": {},
     "output_type": "execute_result"
    },
    {
     "data": {
      "image/png": "[encoded data removed]",
      "text/plain": [
       "<Figure size 1200x500 with 1 Axes>"
      ]
     },
     "metadata": {},
     "output_type": "display_data"
    }
   ],
   "source": [
    "pred.plot(figsize=(12,5),legend=True)"
   ]
  },
  {
   "cell_type": "code",
   "execution_count": null,
   "id": "7928cf14",
   "metadata": {},
   "outputs": [],
   "source": []
  }
 ],
 "metadata": {
  "kernelspec": {
   "display_name": "Python 3 (ipykernel)",
   "language": "python",
   "name": "python3"
  },
  "language_info": {
   "codemirror_mode": {
    "name": "ipython",
    "version": 3
   },
   "file_extension": ".py",
   "mimetype": "text/x-python",
   "name": "python",
   "nbconvert_exporter": "python",
   "pygments_lexer": "ipython3",
   "version": "3.11.5"
  }
 },
 "nbformat": 4,
 "nbformat_minor": 5
}
