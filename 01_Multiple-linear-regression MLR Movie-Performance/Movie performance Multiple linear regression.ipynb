{
 "cells": [
  {
   "cell_type": "markdown",
   "id": "45a960e5",
   "metadata": {},
   "source": [
    "# Linear Regression Multiple Variables "
   ]
  },
  {
   "cell_type": "code",
   "execution_count": 1,
   "id": "e9316645",
   "metadata": {},
   "outputs": [],
   "source": [
    "#Movie Performance Gross Box Office regression\n",
    "#install packages\n",
    "import numpy as np\n",
    "import pandas as pd\n",
    "import matplotlib.pyplot as plt\n",
    "import seaborn as sb\n",
    "import seaborn as sns\n",
    "from sklearn.linear_model import LinearRegression\n",
    "from sklearn.model_selection import train_test_split\n",
    "import statsmodels.api as sm\n",
    "from sklearn.metrics import r2_score, mean_squared_error, mean_absolute_error\n",
    "from sklearn.preprocessing import normalize"
   ]
  },
  {
   "cell_type": "code",
   "execution_count": 2,
   "id": "172b2e99",
   "metadata": {},
   "outputs": [],
   "source": [
    "#Load the data\n",
    "df = pd.read_csv(\"MoviePerM.csv\")"
   ]
  },
  {
   "cell_type": "code",
   "execution_count": 3,
   "id": "4f282d94",
   "metadata": {},
   "outputs": [
    {
     "data": {
      "text/html": [
       "<div>\n",
       "<style scoped>\n",
       "    .dataframe tbody tr th:only-of-type {\n",
       "        vertical-align: middle;\n",
       "    }\n",
       "\n",
       "    .dataframe tbody tr th {\n",
       "        vertical-align: top;\n",
       "    }\n",
       "\n",
       "    .dataframe thead th {\n",
       "        text-align: right;\n",
       "    }\n",
       "</style>\n",
       "<table border=\"1\" class=\"dataframe\">\n",
       "  <thead>\n",
       "    <tr style=\"text-align: right;\">\n",
       "      <th></th>\n",
       "      <th>ProfDU</th>\n",
       "      <th>user_rating</th>\n",
       "      <th>movie_length</th>\n",
       "      <th>Director Value</th>\n",
       "      <th>Producer Power</th>\n",
       "      <th>Star Power</th>\n",
       "      <th>estmated_budget</th>\n",
       "      <th>opening_weekend</th>\n",
       "      <th>grossboxoffice</th>\n",
       "    </tr>\n",
       "  </thead>\n",
       "  <tbody>\n",
       "    <tr>\n",
       "      <th>0</th>\n",
       "      <td>1</td>\n",
       "      <td>3.6</td>\n",
       "      <td>93</td>\n",
       "      <td>2</td>\n",
       "      <td>2</td>\n",
       "      <td>2</td>\n",
       "      <td>10000000</td>\n",
       "      <td>1771</td>\n",
       "      <td>1433049</td>\n",
       "    </tr>\n",
       "    <tr>\n",
       "      <th>1</th>\n",
       "      <td>0</td>\n",
       "      <td>6.2</td>\n",
       "      <td>85</td>\n",
       "      <td>1</td>\n",
       "      <td>1</td>\n",
       "      <td>1</td>\n",
       "      <td>80000</td>\n",
       "      <td>3284</td>\n",
       "      <td>83500</td>\n",
       "    </tr>\n",
       "    <tr>\n",
       "      <th>2</th>\n",
       "      <td>1</td>\n",
       "      <td>7.0</td>\n",
       "      <td>92</td>\n",
       "      <td>2</td>\n",
       "      <td>2</td>\n",
       "      <td>2</td>\n",
       "      <td>5000000</td>\n",
       "      <td>4584</td>\n",
       "      <td>124720</td>\n",
       "    </tr>\n",
       "    <tr>\n",
       "      <th>3</th>\n",
       "      <td>1</td>\n",
       "      <td>5.5</td>\n",
       "      <td>92</td>\n",
       "      <td>2</td>\n",
       "      <td>2</td>\n",
       "      <td>2</td>\n",
       "      <td>450000</td>\n",
       "      <td>6722</td>\n",
       "      <td>54020</td>\n",
       "    </tr>\n",
       "    <tr>\n",
       "      <th>4</th>\n",
       "      <td>1</td>\n",
       "      <td>6.0</td>\n",
       "      <td>103</td>\n",
       "      <td>3</td>\n",
       "      <td>2</td>\n",
       "      <td>1</td>\n",
       "      <td>14000000</td>\n",
       "      <td>9128</td>\n",
       "      <td>75078</td>\n",
       "    </tr>\n",
       "  </tbody>\n",
       "</table>\n",
       "</div>"
      ],
      "text/plain": [
       "   ProfDU  user_rating  movie_length  Director Value  Producer Power  \\\n",
       "0       1          3.6            93               2               2   \n",
       "1       0          6.2            85               1               1   \n",
       "2       1          7.0            92               2               2   \n",
       "3       1          5.5            92               2               2   \n",
       "4       1          6.0           103               3               2   \n",
       "\n",
       "   Star Power  estmated_budget  opening_weekend  grossboxoffice  \n",
       "0           2         10000000             1771         1433049  \n",
       "1           1            80000             3284           83500  \n",
       "2           2          5000000             4584          124720  \n",
       "3           2           450000             6722           54020  \n",
       "4           1         14000000             9128           75078  "
      ]
     },
     "execution_count": 3,
     "metadata": {},
     "output_type": "execute_result"
    }
   ],
   "source": [
    "#Check the data\n",
    "df.head()"
   ]
  },
  {
   "cell_type": "code",
   "execution_count": 175,
   "id": "c8771d41",
   "metadata": {
    "scrolled": true
   },
   "outputs": [
    {
     "data": {
      "text/html": [
       "<div>\n",
       "<style scoped>\n",
       "    .dataframe tbody tr th:only-of-type {\n",
       "        vertical-align: middle;\n",
       "    }\n",
       "\n",
       "    .dataframe tbody tr th {\n",
       "        vertical-align: top;\n",
       "    }\n",
       "\n",
       "    .dataframe thead th {\n",
       "        text-align: right;\n",
       "    }\n",
       "</style>\n",
       "<table border=\"1\" class=\"dataframe\">\n",
       "  <thead>\n",
       "    <tr style=\"text-align: right;\">\n",
       "      <th></th>\n",
       "      <th>ProfDU</th>\n",
       "      <th>user_rating</th>\n",
       "      <th>movie_length</th>\n",
       "      <th>Director Value</th>\n",
       "      <th>Producer Power</th>\n",
       "      <th>Star Power</th>\n",
       "      <th>estmated_budget</th>\n",
       "      <th>opening_weekend</th>\n",
       "      <th>grossboxoffice</th>\n",
       "    </tr>\n",
       "  </thead>\n",
       "  <tbody>\n",
       "    <tr>\n",
       "      <th>count</th>\n",
       "      <td>481.000000</td>\n",
       "      <td>481.000000</td>\n",
       "      <td>481.000000</td>\n",
       "      <td>481.000000</td>\n",
       "      <td>481.000000</td>\n",
       "      <td>481.000000</td>\n",
       "      <td>4.810000e+02</td>\n",
       "      <td>4.810000e+02</td>\n",
       "      <td>4.810000e+02</td>\n",
       "    </tr>\n",
       "    <tr>\n",
       "      <th>mean</th>\n",
       "      <td>0.411642</td>\n",
       "      <td>6.120582</td>\n",
       "      <td>107.170478</td>\n",
       "      <td>2.563410</td>\n",
       "      <td>2.334719</td>\n",
       "      <td>2.588358</td>\n",
       "      <td>4.213948e+07</td>\n",
       "      <td>1.531480e+07</td>\n",
       "      <td>7.954263e+07</td>\n",
       "    </tr>\n",
       "    <tr>\n",
       "      <th>std</th>\n",
       "      <td>0.492643</td>\n",
       "      <td>1.202416</td>\n",
       "      <td>17.787520</td>\n",
       "      <td>0.783044</td>\n",
       "      <td>0.708740</td>\n",
       "      <td>0.883288</td>\n",
       "      <td>4.361920e+07</td>\n",
       "      <td>2.098824e+07</td>\n",
       "      <td>1.365347e+08</td>\n",
       "    </tr>\n",
       "    <tr>\n",
       "      <th>min</th>\n",
       "      <td>0.000000</td>\n",
       "      <td>1.700000</td>\n",
       "      <td>73.000000</td>\n",
       "      <td>1.000000</td>\n",
       "      <td>1.000000</td>\n",
       "      <td>1.000000</td>\n",
       "      <td>7.000000e+03</td>\n",
       "      <td>1.771000e+03</td>\n",
       "      <td>5.008000e+04</td>\n",
       "    </tr>\n",
       "    <tr>\n",
       "      <th>25%</th>\n",
       "      <td>0.000000</td>\n",
       "      <td>5.400000</td>\n",
       "      <td>95.000000</td>\n",
       "      <td>2.000000</td>\n",
       "      <td>2.000000</td>\n",
       "      <td>2.000000</td>\n",
       "      <td>1.100000e+07</td>\n",
       "      <td>1.443809e+06</td>\n",
       "      <td>8.704851e+06</td>\n",
       "    </tr>\n",
       "    <tr>\n",
       "      <th>50%</th>\n",
       "      <td>0.000000</td>\n",
       "      <td>6.300000</td>\n",
       "      <td>103.000000</td>\n",
       "      <td>2.000000</td>\n",
       "      <td>2.000000</td>\n",
       "      <td>3.000000</td>\n",
       "      <td>2.600000e+07</td>\n",
       "      <td>9.202815e+06</td>\n",
       "      <td>3.409964e+07</td>\n",
       "    </tr>\n",
       "    <tr>\n",
       "      <th>75%</th>\n",
       "      <td>1.000000</td>\n",
       "      <td>6.900000</td>\n",
       "      <td>117.000000</td>\n",
       "      <td>3.000000</td>\n",
       "      <td>3.000000</td>\n",
       "      <td>3.000000</td>\n",
       "      <td>6.000000e+07</td>\n",
       "      <td>2.036661e+07</td>\n",
       "      <td>9.477055e+07</td>\n",
       "    </tr>\n",
       "    <tr>\n",
       "      <th>max</th>\n",
       "      <td>1.000000</td>\n",
       "      <td>8.900000</td>\n",
       "      <td>183.000000</td>\n",
       "      <td>5.000000</td>\n",
       "      <td>5.000000</td>\n",
       "      <td>5.000000</td>\n",
       "      <td>3.000000e+08</td>\n",
       "      <td>1.584115e+08</td>\n",
       "      <td>1.001922e+09</td>\n",
       "    </tr>\n",
       "  </tbody>\n",
       "</table>\n",
       "</div>"
      ],
      "text/plain": [
       "           ProfDU  user_rating  movie_length  Director Value  Producer Power  \\\n",
       "count  481.000000   481.000000    481.000000      481.000000      481.000000   \n",
       "mean     0.411642     6.120582    107.170478        2.563410        2.334719   \n",
       "std      0.492643     1.202416     17.787520        0.783044        0.708740   \n",
       "min      0.000000     1.700000     73.000000        1.000000        1.000000   \n",
       "25%      0.000000     5.400000     95.000000        2.000000        2.000000   \n",
       "50%      0.000000     6.300000    103.000000        2.000000        2.000000   \n",
       "75%      1.000000     6.900000    117.000000        3.000000        3.000000   \n",
       "max      1.000000     8.900000    183.000000        5.000000        5.000000   \n",
       "\n",
       "       Star Power  estmated_budget  opening_weekend  grossboxoffice  \n",
       "count  481.000000     4.810000e+02     4.810000e+02    4.810000e+02  \n",
       "mean     2.588358     4.213948e+07     1.531480e+07    7.954263e+07  \n",
       "std      0.883288     4.361920e+07     2.098824e+07    1.365347e+08  \n",
       "min      1.000000     7.000000e+03     1.771000e+03    5.008000e+04  \n",
       "25%      2.000000     1.100000e+07     1.443809e+06    8.704851e+06  \n",
       "50%      3.000000     2.600000e+07     9.202815e+06    3.409964e+07  \n",
       "75%      3.000000     6.000000e+07     2.036661e+07    9.477055e+07  \n",
       "max      5.000000     3.000000e+08     1.584115e+08    1.001922e+09  "
      ]
     },
     "execution_count": 175,
     "metadata": {},
     "output_type": "execute_result"
    }
   ],
   "source": [
    "df.describe()"
   ]
  },
  {
   "cell_type": "markdown",
   "id": "9e94a8a9",
   "metadata": {},
   "source": [
    "Measuring Linear association, numbers closer to -1,1 indicate a strong linear relationship"
   ]
  },
  {
   "cell_type": "code",
   "execution_count": 360,
   "id": "2094db8e",
   "metadata": {},
   "outputs": [
    {
     "name": "stdout",
     "output_type": "stream",
     "text": [
      "Pearson correlation between ProfDU and dependent_variable: -0.35950490819354836\n",
      "Pearson correlation between user_rating and dependent_variable: 0.3010334651204096\n",
      "Pearson correlation between movie_length and dependent_variable: 0.4290260213893229\n",
      "Pearson correlation between Director Value and dependent_variable: 0.5092991615483684\n",
      "Pearson correlation between Producer Power and dependent_variable: 0.276500039276953\n",
      "Pearson correlation between Star Power and dependent_variable: 0.5040310209949754\n",
      "Pearson correlation between estmated_budget and dependent_variable: 0.6374186525628296\n",
      "Pearson correlation between opening_weekend and dependent_variable: 0.781334220136855\n",
      "Pearson correlation between grossboxoffice and dependent_variable: 0.9999999999999996\n"
     ]
    }
   ],
   "source": [
    "#Me\n",
    "from scipy.stats import pearsonr\n",
    "# Correlation Coefficients\n",
    "for column in ['ProfDU','user_rating','movie_length','Director Value','Producer Power','Star Power','estmated_budget','opening_weekend','grossboxoffice']:\n",
    "    corr, _ = pearsonr(df[column], df['grossboxoffice'])\n",
    "    print(f'Pearson correlation between {column} and dependent_variable: {corr}')"
   ]
  },
  {
   "cell_type": "code",
   "execution_count": 176,
   "id": "c03b698e",
   "metadata": {
    "scrolled": false
   },
   "outputs": [
    {
     "data": {
      "image/png": "[encoded data removed]",
      "text/plain": [
       "<Figure size 1700x700 with 2 Axes>"
      ]
     },
     "metadata": {},
     "output_type": "display_data"
    }
   ],
   "source": [
    "features = ['user_rating', 'opening_weekend']\n",
    "\n",
    "# Create a figure and axes beforehand\n",
    "fig, axs = plt.subplots(1, 2, figsize=(17, 7))  # 1 row, 2 columns\n",
    "\n",
    "\n",
    "# Iterate over the features and the axes simultaneously\n",
    "for col, ax in zip(features, axs):\n",
    "    # Use the ax argument to specify where to plot\n",
    "    sb.scatterplot(data=df, x=col, y='grossboxoffice', ax=ax)\n",
    "    ax.set_title(col)  # Set title for each subplot\n",
    "\n",
    "\n",
    "plt.tight_layout()  # Adjust layout to not overlap plots\n",
    "plt.show()"
   ]
  },
  {
   "cell_type": "markdown",
   "id": "c2ce56e7",
   "metadata": {},
   "source": [
    "####  Checking for Multicollinarity and if Polynomials/interactions terms are a better option\n",
    "####  1 means no correlation, 1-5 moderate correlation, 5+ effects predictive power\n",
    "#### VIF is (Variance Inflation Factor) "
   ]
  },
  {
   "cell_type": "code",
   "execution_count": 356,
   "id": "f22af344",
   "metadata": {},
   "outputs": [],
   "source": [
    "from sklearn.preprocessing import PolynomialFeatures\n",
    "\n",
    "poly = PolynomialFeatures(degree=3, include_bias=False)\n",
    "X_poly = poly.fit_transform(df[['user_rating','opening_weekend','Star Power']])\n",
    "\n",
    "# Getting feature names for the polynomial features\n",
    "feature_names = poly.get_feature_names_out(['user_rating','opening_weekend','Star Power'])"
   ]
  },
  {
   "cell_type": "code",
   "execution_count": 357,
   "id": "c9b3f459",
   "metadata": {},
   "outputs": [],
   "source": [
    "from statsmodels.stats.outliers_influence import variance_inflation_factor\n",
    "\n",
    "# Create a DataFrame for VIFs\n",
    "vif_df = pd.DataFrame()\n",
    "vif_df['VIF'] = [variance_inflation_factor(X_poly, i) for i in range(X_poly.shape[1])]\n",
    "vif_df['feature'] = feature_names"
   ]
  },
  {
   "cell_type": "code",
   "execution_count": 358,
   "id": "ae3649fe",
   "metadata": {},
   "outputs": [
    {
     "data": {
      "text/html": [
       "<div>\n",
       "<style scoped>\n",
       "    .dataframe tbody tr th:only-of-type {\n",
       "        vertical-align: middle;\n",
       "    }\n",
       "\n",
       "    .dataframe tbody tr th {\n",
       "        vertical-align: top;\n",
       "    }\n",
       "\n",
       "    .dataframe thead th {\n",
       "        text-align: right;\n",
       "    }\n",
       "</style>\n",
       "<table border=\"1\" class=\"dataframe\">\n",
       "  <thead>\n",
       "    <tr style=\"text-align: right;\">\n",
       "      <th></th>\n",
       "      <th>VIF</th>\n",
       "      <th>feature</th>\n",
       "    </tr>\n",
       "  </thead>\n",
       "  <tbody>\n",
       "    <tr>\n",
       "      <th>0</th>\n",
       "      <td>0.086834</td>\n",
       "      <td>user_rating</td>\n",
       "    </tr>\n",
       "    <tr>\n",
       "      <th>1</th>\n",
       "      <td>31.789221</td>\n",
       "      <td>opening_weekend</td>\n",
       "    </tr>\n",
       "    <tr>\n",
       "      <th>2</th>\n",
       "      <td>0.329019</td>\n",
       "      <td>Star Power</td>\n",
       "    </tr>\n",
       "    <tr>\n",
       "      <th>3</th>\n",
       "      <td>0.279570</td>\n",
       "      <td>user_rating^2</td>\n",
       "    </tr>\n",
       "    <tr>\n",
       "      <th>4</th>\n",
       "      <td>233.682281</td>\n",
       "      <td>user_rating opening_weekend</td>\n",
       "    </tr>\n",
       "    <tr>\n",
       "      <th>5</th>\n",
       "      <td>0.600836</td>\n",
       "      <td>user_rating Star Power</td>\n",
       "    </tr>\n",
       "    <tr>\n",
       "      <th>6</th>\n",
       "      <td>119.013930</td>\n",
       "      <td>opening_weekend^2</td>\n",
       "    </tr>\n",
       "    <tr>\n",
       "      <th>7</th>\n",
       "      <td>55.770453</td>\n",
       "      <td>opening_weekend Star Power</td>\n",
       "    </tr>\n",
       "    <tr>\n",
       "      <th>8</th>\n",
       "      <td>1.047736</td>\n",
       "      <td>Star Power^2</td>\n",
       "    </tr>\n",
       "    <tr>\n",
       "      <th>9</th>\n",
       "      <td>0.511026</td>\n",
       "      <td>user_rating^3</td>\n",
       "    </tr>\n",
       "    <tr>\n",
       "      <th>10</th>\n",
       "      <td>16.621525</td>\n",
       "      <td>user_rating^2 opening_weekend</td>\n",
       "    </tr>\n",
       "    <tr>\n",
       "      <th>11</th>\n",
       "      <td>0.939182</td>\n",
       "      <td>user_rating^2 Star Power</td>\n",
       "    </tr>\n",
       "    <tr>\n",
       "      <th>12</th>\n",
       "      <td>147.614999</td>\n",
       "      <td>user_rating opening_weekend^2</td>\n",
       "    </tr>\n",
       "    <tr>\n",
       "      <th>13</th>\n",
       "      <td>197.321611</td>\n",
       "      <td>user_rating opening_weekend Star Power</td>\n",
       "    </tr>\n",
       "    <tr>\n",
       "      <th>14</th>\n",
       "      <td>1.431964</td>\n",
       "      <td>user_rating Star Power^2</td>\n",
       "    </tr>\n",
       "    <tr>\n",
       "      <th>15</th>\n",
       "      <td>136.509464</td>\n",
       "      <td>opening_weekend^3</td>\n",
       "    </tr>\n",
       "    <tr>\n",
       "      <th>16</th>\n",
       "      <td>121.771345</td>\n",
       "      <td>opening_weekend^2 Star Power</td>\n",
       "    </tr>\n",
       "    <tr>\n",
       "      <th>17</th>\n",
       "      <td>44.196872</td>\n",
       "      <td>opening_weekend Star Power^2</td>\n",
       "    </tr>\n",
       "    <tr>\n",
       "      <th>18</th>\n",
       "      <td>1.692949</td>\n",
       "      <td>Star Power^3</td>\n",
       "    </tr>\n",
       "  </tbody>\n",
       "</table>\n",
       "</div>"
      ],
      "text/plain": [
       "           VIF                                 feature\n",
       "0     0.086834                             user_rating\n",
       "1    31.789221                         opening_weekend\n",
       "2     0.329019                              Star Power\n",
       "3     0.279570                           user_rating^2\n",
       "4   233.682281             user_rating opening_weekend\n",
       "5     0.600836                  user_rating Star Power\n",
       "6   119.013930                       opening_weekend^2\n",
       "7    55.770453              opening_weekend Star Power\n",
       "8     1.047736                            Star Power^2\n",
       "9     0.511026                           user_rating^3\n",
       "10   16.621525           user_rating^2 opening_weekend\n",
       "11    0.939182                user_rating^2 Star Power\n",
       "12  147.614999           user_rating opening_weekend^2\n",
       "13  197.321611  user_rating opening_weekend Star Power\n",
       "14    1.431964                user_rating Star Power^2\n",
       "15  136.509464                       opening_weekend^3\n",
       "16  121.771345            opening_weekend^2 Star Power\n",
       "17   44.196872            opening_weekend Star Power^2\n",
       "18    1.692949                            Star Power^3"
      ]
     },
     "execution_count": 358,
     "metadata": {},
     "output_type": "execute_result"
    }
   ],
   "source": [
    "vif_df"
   ]
  },
  {
   "cell_type": "markdown",
   "id": "39392c6d",
   "metadata": {},
   "source": [
    "After checking different combonations, the below is the best fit"
   ]
  },
  {
   "cell_type": "code",
   "execution_count": 163,
   "id": "861bfb02",
   "metadata": {},
   "outputs": [],
   "source": [
    "#define the x and y variables\n",
    "x=df[['user_rating', 'opening_weekend']]\n",
    "y=df[['grossboxoffice']]"
   ]
  },
  {
   "cell_type": "code",
   "execution_count": 164,
   "id": "4bdc7b68",
   "metadata": {},
   "outputs": [],
   "source": [
    "#split the data into train and test dataset \n",
    "x_train, x_test, y_train, y_test = train_test_split(x, y, test_size = .2, random_state = 0)"
   ]
  },
  {
   "cell_type": "code",
   "execution_count": 165,
   "id": "635f73ce",
   "metadata": {},
   "outputs": [
    {
     "name": "stdout",
     "output_type": "stream",
     "text": [
      "x_train (384, 2)\n",
      "x_test (97, 2)\n",
      "y_train (384, 1)\n",
      "y_test (97, 1)\n"
     ]
    }
   ],
   "source": [
    "print(\"x_train\", x_train.shape)\n",
    "print(\"x_test\", x_test.shape)\n",
    "print(\"y_train\", y_train.shape)\n",
    "print(\"y_test\", y_test.shape)"
   ]
  },
  {
   "cell_type": "code",
   "execution_count": 166,
   "id": "976fd46c",
   "metadata": {},
   "outputs": [
    {
     "data": {
      "text/html": [
       "<style>#sk-container-id-7 {color: black;}#sk-container-id-7 pre{padding: 0;}#sk-container-id-7 div.sk-toggleable {background-color: white;}#sk-container-id-7 label.sk-toggleable__label {cursor: pointer;display: block;width: 100%;margin-bottom: 0;padding: 0.3em;box-sizing: border-box;text-align: center;}#sk-container-id-7 label.sk-toggleable__label-arrow:before {content: \"▸\";float: left;margin-right: 0.25em;color: #696969;}#sk-container-id-7 label.sk-toggleable__label-arrow:hover:before {color: black;}#sk-container-id-7 div.sk-estimator:hover label.sk-toggleable__label-arrow:before {color: black;}#sk-container-id-7 div.sk-toggleable__content {max-height: 0;max-width: 0;overflow: hidden;text-align: left;background-color: #f0f8ff;}#sk-container-id-7 div.sk-toggleable__content pre {margin: 0.2em;color: black;border-radius: 0.25em;background-color: #f0f8ff;}#sk-container-id-7 input.sk-toggleable__control:checked~div.sk-toggleable__content {max-height: 200px;max-width: 100%;overflow: auto;}#sk-container-id-7 input.sk-toggleable__control:checked~label.sk-toggleable__label-arrow:before {content: \"▾\";}#sk-container-id-7 div.sk-estimator input.sk-toggleable__control:checked~label.sk-toggleable__label {background-color: #d4ebff;}#sk-container-id-7 div.sk-label input.sk-toggleable__control:checked~label.sk-toggleable__label {background-color: #d4ebff;}#sk-container-id-7 input.sk-hidden--visually {border: 0;clip: rect(1px 1px 1px 1px);clip: rect(1px, 1px, 1px, 1px);height: 1px;margin: -1px;overflow: hidden;padding: 0;position: absolute;width: 1px;}#sk-container-id-7 div.sk-estimator {font-family: monospace;background-color: #f0f8ff;border: 1px dotted black;border-radius: 0.25em;box-sizing: border-box;margin-bottom: 0.5em;}#sk-container-id-7 div.sk-estimator:hover {background-color: #d4ebff;}#sk-container-id-7 div.sk-parallel-item::after {content: \"\";width: 100%;border-bottom: 1px solid gray;flex-grow: 1;}#sk-container-id-7 div.sk-label:hover label.sk-toggleable__label {background-color: #d4ebff;}#sk-container-id-7 div.sk-serial::before {content: \"\";position: absolute;border-left: 1px solid gray;box-sizing: border-box;top: 0;bottom: 0;left: 50%;z-index: 0;}#sk-container-id-7 div.sk-serial {display: flex;flex-direction: column;align-items: center;background-color: white;padding-right: 0.2em;padding-left: 0.2em;position: relative;}#sk-container-id-7 div.sk-item {position: relative;z-index: 1;}#sk-container-id-7 div.sk-parallel {display: flex;align-items: stretch;justify-content: center;background-color: white;position: relative;}#sk-container-id-7 div.sk-item::before, #sk-container-id-7 div.sk-parallel-item::before {content: \"\";position: absolute;border-left: 1px solid gray;box-sizing: border-box;top: 0;bottom: 0;left: 50%;z-index: -1;}#sk-container-id-7 div.sk-parallel-item {display: flex;flex-direction: column;z-index: 1;position: relative;background-color: white;}#sk-container-id-7 div.sk-parallel-item:first-child::after {align-self: flex-end;width: 50%;}#sk-container-id-7 div.sk-parallel-item:last-child::after {align-self: flex-start;width: 50%;}#sk-container-id-7 div.sk-parallel-item:only-child::after {width: 0;}#sk-container-id-7 div.sk-dashed-wrapped {border: 1px dashed gray;margin: 0 0.4em 0.5em 0.4em;box-sizing: border-box;padding-bottom: 0.4em;background-color: white;}#sk-container-id-7 div.sk-label label {font-family: monospace;font-weight: bold;display: inline-block;line-height: 1.2em;}#sk-container-id-7 div.sk-label-container {text-align: center;}#sk-container-id-7 div.sk-container {/* jupyter's `normalize.less` sets `[hidden] { display: none; }` but bootstrap.min.css set `[hidden] { display: none !important; }` so we also need the `!important` here to be able to override the default hidden behavior on the sphinx rendered scikit-learn.org. See: https://github.com/scikit-learn/scikit-learn/issues/21755 */display: inline-block !important;position: relative;}#sk-container-id-7 div.sk-text-repr-fallback {display: none;}</style><div id=\"sk-container-id-7\" class=\"sk-top-container\"><div class=\"sk-text-repr-fallback\"><pre>LinearRegression()</pre><b>In a Jupyter environment, please rerun this cell to show the HTML representation or trust the notebook. <br />On GitHub, the HTML representation is unable to render, please try loading this page with nbviewer.org.</b></div><div class=\"sk-container\" hidden><div class=\"sk-item\"><div class=\"sk-estimator sk-toggleable\"><input class=\"sk-toggleable__control sk-hidden--visually\" id=\"sk-estimator-id-7\" type=\"checkbox\" checked><label for=\"sk-estimator-id-7\" class=\"sk-toggleable__label sk-toggleable__label-arrow\">LinearRegression</label><div class=\"sk-toggleable__content\"><pre>LinearRegression()</pre></div></div></div></div></div>"
      ],
      "text/plain": [
       "LinearRegression()"
      ]
     },
     "execution_count": 166,
     "metadata": {},
     "output_type": "execute_result"
    }
   ],
   "source": [
    "#Build the model sklearn\n",
    "model = LinearRegression()\n",
    "model.fit(x_train, y_train)"
   ]
  },
  {
   "cell_type": "code",
   "execution_count": 167,
   "id": "c5f5e9f9",
   "metadata": {},
   "outputs": [
    {
     "data": {
      "text/plain": [
       "array([[1.55679767e+07, 4.85780701e+00]])"
      ]
     },
     "execution_count": 167,
     "metadata": {},
     "output_type": "execute_result"
    }
   ],
   "source": [
    "model.coef_"
   ]
  },
  {
   "cell_type": "code",
   "execution_count": 168,
   "id": "9d09b877",
   "metadata": {},
   "outputs": [
    {
     "data": {
      "text/plain": [
       "array([-90783899.06475149])"
      ]
     },
     "execution_count": 168,
     "metadata": {},
     "output_type": "execute_result"
    }
   ],
   "source": [
    "model.intercept_"
   ]
  },
  {
   "cell_type": "code",
   "execution_count": 169,
   "id": "57a1cf8c",
   "metadata": {},
   "outputs": [],
   "source": [
    "# Predicting the Test set results\n",
    "y_pred = model.predict(x_test)"
   ]
  },
  {
   "cell_type": "markdown",
   "id": "b30cadf3",
   "metadata": {},
   "source": [
    "You would typically plot the residuals after fitting your model to check for normality and homoscedasticity. For example:"
   ]
  },
  {
   "cell_type": "code",
   "execution_count": 180,
   "id": "f37e6523",
   "metadata": {
    "scrolled": false
   },
   "outputs": [
    {
     "ename": "TypeError",
     "evalue": "scatterplot() takes from 0 to 1 positional arguments but 2 were given",
     "output_type": "error",
     "traceback": [
      "\u001b[0;31m---------------------------------------------------------------------------\u001b[0m",
      "\u001b[0;31mTypeError\u001b[0m                                 Traceback (most recent call last)",
      "Cell \u001b[0;32mIn[180], line 4\u001b[0m\n\u001b[1;32m      2\u001b[0m residuals \u001b[38;5;241m=\u001b[39m y_test \u001b[38;5;241m-\u001b[39m y_pred\n\u001b[1;32m      3\u001b[0m sns\u001b[38;5;241m.\u001b[39mhistplot(residuals, kde\u001b[38;5;241m=\u001b[39m\u001b[38;5;28;01mTrue\u001b[39;00m)  \u001b[38;5;66;03m# For normality check\u001b[39;00m\n\u001b[0;32m----> 4\u001b[0m sns\u001b[38;5;241m.\u001b[39mscatterplot(y_pred, residuals)\n",
      "\u001b[0;31mTypeError\u001b[0m: scatterplot() takes from 0 to 1 positional arguments but 2 were given"
     ]
    },
    {
     "data": {
      "image/png": "[encoded data removed]",
      "text/plain": [
       "<Figure size 640x480 with 1 Axes>"
      ]
     },
     "metadata": {},
     "output_type": "display_data"
    }
   ],
   "source": [
    "# Assume model is your fitted OLS model from statsmodels\n",
    "residuals = y_test - y_pred\n",
    "sns.histplot(residuals, kde=True)  # For normality check\n",
    "sns.scatterplot(y_pred, residuals)  # For homoscedasticity check"
   ]
  },
  {
   "cell_type": "code",
   "execution_count": 132,
   "id": "8bd94c34",
   "metadata": {},
   "outputs": [
    {
     "name": "stdout",
     "output_type": "stream",
     "text": [
      "Mean Squared Error: 1.0064059678488272e+16\n"
     ]
    }
   ],
   "source": [
    "# Calculating the Mean Squared Error (MSE)\n",
    "mse = mean_squared_error(y_test, y_pred)\n",
    "print(\"Mean Squared Error:\", mse)"
   ]
  },
  {
   "cell_type": "code",
   "execution_count": 133,
   "id": "7b599fa8",
   "metadata": {},
   "outputs": [
    {
     "name": "stdout",
     "output_type": "stream",
     "text": [
      "RMSE -  100319787.07357922\n"
     ]
    }
   ],
   "source": [
    "# Calculating the Root Mean Squared Error (MSE)\n",
    "import math\n",
    "rmse = math.sqrt(mse)\n",
    "print (\"RMSE - \", rmse)"
   ]
  },
  {
   "cell_type": "code",
   "execution_count": 134,
   "id": "958503b3",
   "metadata": {},
   "outputs": [
    {
     "name": "stdout",
     "output_type": "stream",
     "text": [
      "MAE -  51309076.58280758\n"
     ]
    }
   ],
   "source": [
    "# Calculating the Mean Absolute Error (MAE)\n",
    "mae = mean_absolute_error(y_test, y_pred)\n",
    "print (\"MAE - \", mae)"
   ]
  },
  {
   "cell_type": "code",
   "execution_count": 135,
   "id": "032ef75f",
   "metadata": {},
   "outputs": [
    {
     "name": "stdout",
     "output_type": "stream",
     "text": [
      "R^2 Score: 0.5956568535670234\n"
     ]
    }
   ],
   "source": [
    "# Calculating the Coefficient of Determination (R^2 Score)\n",
    "r2 = r2_score(y_test, y_pred)\n",
    "print(\"R^2 Score:\", r2)"
   ]
  },
  {
   "cell_type": "code",
   "execution_count": 143,
   "id": "f0bb7973",
   "metadata": {},
   "outputs": [
    {
     "data": {
      "text/plain": [
       "array([91816076.45788354])"
      ]
     },
     "execution_count": 143,
     "metadata": {},
     "output_type": "execute_result"
    }
   ],
   "source": [
    "# Create a DataFrame with the specific values you want to test\n",
    "model.predict([0,5,3000])\n"
   ]
  },
  {
   "cell_type": "code",
   "execution_count": 140,
   "id": "7cbd1761",
   "metadata": {},
   "outputs": [
    {
     "data": {
      "text/plain": [
       "Text(0, 0.5, 'Predicted')"
      ]
     },
     "execution_count": 140,
     "metadata": {},
     "output_type": "execute_result"
    },
    {
     "data": {
      "image/png": "[encoded data removed]",
      "text/plain": [
       "<Figure size 640x480 with 1 Axes>"
      ]
     },
     "metadata": {},
     "output_type": "display_data"
    }
   ],
   "source": [
    "plt.scatter(y_test, y_pred)\n",
    "plt.xlabel('Actual')\n",
    "plt.ylabel('Predicted')"
   ]
  },
  {
   "cell_type": "code",
   "execution_count": 141,
   "id": "0a1519b3",
   "metadata": {
    "scrolled": true
   },
   "outputs": [
    {
     "data": {
      "text/plain": [
       "<Axes: xlabel='grossboxoffice'>"
      ]
     },
     "execution_count": 141,
     "metadata": {},
     "output_type": "execute_result"
    },
    {
     "data": {
      "image/png": "[encoded data removed]",
      "text/plain": [
       "<Figure size 640x480 with 1 Axes>"
      ]
     },
     "metadata": {},
     "output_type": "display_data"
    }
   ],
   "source": [
    "sns.regplot(x=y_test, y=y_pred, ci=None, color='blue')"
   ]
  },
  {
   "cell_type": "code",
   "execution_count": 148,
   "id": "83256c61",
   "metadata": {
    "scrolled": true
   },
   "outputs": [
    {
     "name": "stdout",
     "output_type": "stream",
     "text": [
      "                            OLS Regression Results                            \n",
      "==============================================================================\n",
      "Dep. Variable:         grossboxoffice   R-squared:                       0.636\n",
      "Model:                            OLS   Adj. R-squared:                  0.634\n",
      "Method:                 Least Squares   F-statistic:                     417.1\n",
      "Date:                Tue, 20 Feb 2024   Prob (F-statistic):          1.52e-105\n",
      "Time:                        15:05:05   Log-Likelihood:                -9449.3\n",
      "No. Observations:                 481   AIC:                         1.890e+04\n",
      "Df Residuals:                     478   BIC:                         1.892e+04\n",
      "Df Model:                           2                                         \n",
      "Covariance Type:            nonrobust                                         \n",
      "===================================================================================\n",
      "                      coef    std err          t      P>|t|      [0.025      0.975]\n",
      "-----------------------------------------------------------------------------------\n",
      "const           -1.077e+08   1.96e+07     -5.503      0.000   -1.46e+08   -6.92e+07\n",
      "user_rating      1.836e+07   3.19e+06      5.756      0.000    1.21e+07    2.46e+07\n",
      "opening_weekend     4.8877      0.183     26.745      0.000       4.529       5.247\n",
      "==============================================================================\n",
      "Omnibus:                      284.906   Durbin-Watson:                   2.086\n",
      "Prob(Omnibus):                  0.000   Jarque-Bera (JB):             4957.406\n",
      "Skew:                           2.200   Prob(JB):                         0.00\n",
      "Kurtosis:                      18.100   Cond. No.                     1.37e+08\n",
      "==============================================================================\n",
      "\n",
      "Notes:\n",
      "[1] Standard Errors assume that the covariance matrix of the errors is correctly specified.\n",
      "[2] The condition number is large, 1.37e+08. This might indicate that there are\n",
      "strong multicollinearity or other numerical problems.\n"
     ]
    }
   ],
   "source": [
    "# create stastical summary.....\n",
    "x = sm.add_constant(x)# Adds a constant term to the predictor\n",
    "model = sm.OLS(y,x).fit()\n",
    "print (model.summary())"
   ]
  },
  {
   "cell_type": "markdown",
   "id": "b47f9b9b",
   "metadata": {},
   "source": [
    "## Trying Lasso and Ridge"
   ]
  },
  {
   "cell_type": "code",
   "execution_count": 346,
   "id": "27311d62",
   "metadata": {},
   "outputs": [
    {
     "data": {
      "text/html": [
       "<style>#sk-container-id-25 {color: black;}#sk-container-id-25 pre{padding: 0;}#sk-container-id-25 div.sk-toggleable {background-color: white;}#sk-container-id-25 label.sk-toggleable__label {cursor: pointer;display: block;width: 100%;margin-bottom: 0;padding: 0.3em;box-sizing: border-box;text-align: center;}#sk-container-id-25 label.sk-toggleable__label-arrow:before {content: \"▸\";float: left;margin-right: 0.25em;color: #696969;}#sk-container-id-25 label.sk-toggleable__label-arrow:hover:before {color: black;}#sk-container-id-25 div.sk-estimator:hover label.sk-toggleable__label-arrow:before {color: black;}#sk-container-id-25 div.sk-toggleable__content {max-height: 0;max-width: 0;overflow: hidden;text-align: left;background-color: #f0f8ff;}#sk-container-id-25 div.sk-toggleable__content pre {margin: 0.2em;color: black;border-radius: 0.25em;background-color: #f0f8ff;}#sk-container-id-25 input.sk-toggleable__control:checked~div.sk-toggleable__content {max-height: 200px;max-width: 100%;overflow: auto;}#sk-container-id-25 input.sk-toggleable__control:checked~label.sk-toggleable__label-arrow:before {content: \"▾\";}#sk-container-id-25 div.sk-estimator input.sk-toggleable__control:checked~label.sk-toggleable__label {background-color: #d4ebff;}#sk-container-id-25 div.sk-label input.sk-toggleable__control:checked~label.sk-toggleable__label {background-color: #d4ebff;}#sk-container-id-25 input.sk-hidden--visually {border: 0;clip: rect(1px 1px 1px 1px);clip: rect(1px, 1px, 1px, 1px);height: 1px;margin: -1px;overflow: hidden;padding: 0;position: absolute;width: 1px;}#sk-container-id-25 div.sk-estimator {font-family: monospace;background-color: #f0f8ff;border: 1px dotted black;border-radius: 0.25em;box-sizing: border-box;margin-bottom: 0.5em;}#sk-container-id-25 div.sk-estimator:hover {background-color: #d4ebff;}#sk-container-id-25 div.sk-parallel-item::after {content: \"\";width: 100%;border-bottom: 1px solid gray;flex-grow: 1;}#sk-container-id-25 div.sk-label:hover label.sk-toggleable__label {background-color: #d4ebff;}#sk-container-id-25 div.sk-serial::before {content: \"\";position: absolute;border-left: 1px solid gray;box-sizing: border-box;top: 0;bottom: 0;left: 50%;z-index: 0;}#sk-container-id-25 div.sk-serial {display: flex;flex-direction: column;align-items: center;background-color: white;padding-right: 0.2em;padding-left: 0.2em;position: relative;}#sk-container-id-25 div.sk-item {position: relative;z-index: 1;}#sk-container-id-25 div.sk-parallel {display: flex;align-items: stretch;justify-content: center;background-color: white;position: relative;}#sk-container-id-25 div.sk-item::before, #sk-container-id-25 div.sk-parallel-item::before {content: \"\";position: absolute;border-left: 1px solid gray;box-sizing: border-box;top: 0;bottom: 0;left: 50%;z-index: -1;}#sk-container-id-25 div.sk-parallel-item {display: flex;flex-direction: column;z-index: 1;position: relative;background-color: white;}#sk-container-id-25 div.sk-parallel-item:first-child::after {align-self: flex-end;width: 50%;}#sk-container-id-25 div.sk-parallel-item:last-child::after {align-self: flex-start;width: 50%;}#sk-container-id-25 div.sk-parallel-item:only-child::after {width: 0;}#sk-container-id-25 div.sk-dashed-wrapped {border: 1px dashed gray;margin: 0 0.4em 0.5em 0.4em;box-sizing: border-box;padding-bottom: 0.4em;background-color: white;}#sk-container-id-25 div.sk-label label {font-family: monospace;font-weight: bold;display: inline-block;line-height: 1.2em;}#sk-container-id-25 div.sk-label-container {text-align: center;}#sk-container-id-25 div.sk-container {/* jupyter's `normalize.less` sets `[hidden] { display: none; }` but bootstrap.min.css set `[hidden] { display: none !important; }` so we also need the `!important` here to be able to override the default hidden behavior on the sphinx rendered scikit-learn.org. See: https://github.com/scikit-learn/scikit-learn/issues/21755 */display: inline-block !important;position: relative;}#sk-container-id-25 div.sk-text-repr-fallback {display: none;}</style><div id=\"sk-container-id-25\" class=\"sk-top-container\"><div class=\"sk-text-repr-fallback\"><pre>Lasso()</pre><b>In a Jupyter environment, please rerun this cell to show the HTML representation or trust the notebook. <br />On GitHub, the HTML representation is unable to render, please try loading this page with nbviewer.org.</b></div><div class=\"sk-container\" hidden><div class=\"sk-item\"><div class=\"sk-estimator sk-toggleable\"><input class=\"sk-toggleable__control sk-hidden--visually\" id=\"sk-estimator-id-25\" type=\"checkbox\" checked><label for=\"sk-estimator-id-25\" class=\"sk-toggleable__label sk-toggleable__label-arrow\">Lasso</label><div class=\"sk-toggleable__content\"><pre>Lasso()</pre></div></div></div></div></div>"
      ],
      "text/plain": [
       "Lasso()"
      ]
     },
     "execution_count": 346,
     "metadata": {},
     "output_type": "execute_result"
    }
   ],
   "source": [
    "from sklearn.linear_model import Lasso\n",
    "lasso = Lasso(alpha=1.0)\n",
    "lasso.fit(x_train, y_train) "
   ]
  },
  {
   "cell_type": "code",
   "execution_count": 347,
   "id": "60befe5f",
   "metadata": {},
   "outputs": [],
   "source": [
    "yl_pred = lasso.predict(x_test)"
   ]
  },
  {
   "cell_type": "code",
   "execution_count": 348,
   "id": "a8d6f64c",
   "metadata": {},
   "outputs": [
    {
     "name": "stdout",
     "output_type": "stream",
     "text": [
      "R^2 Score: 0.6091798244634663\n"
     ]
    }
   ],
   "source": [
    "# Calculating the Coefficient of Determination (R^2 Score)\n",
    "r2 = r2_score(y_test, yl_pred)\n",
    "print(\"R^2 Score:\", r2)"
   ]
  },
  {
   "cell_type": "code",
   "execution_count": 319,
   "id": "5ccf9f42",
   "metadata": {},
   "outputs": [
    {
     "data": {
      "text/html": [
       "<style>#sk-container-id-17 {color: black;}#sk-container-id-17 pre{padding: 0;}#sk-container-id-17 div.sk-toggleable {background-color: white;}#sk-container-id-17 label.sk-toggleable__label {cursor: pointer;display: block;width: 100%;margin-bottom: 0;padding: 0.3em;box-sizing: border-box;text-align: center;}#sk-container-id-17 label.sk-toggleable__label-arrow:before {content: \"▸\";float: left;margin-right: 0.25em;color: #696969;}#sk-container-id-17 label.sk-toggleable__label-arrow:hover:before {color: black;}#sk-container-id-17 div.sk-estimator:hover label.sk-toggleable__label-arrow:before {color: black;}#sk-container-id-17 div.sk-toggleable__content {max-height: 0;max-width: 0;overflow: hidden;text-align: left;background-color: #f0f8ff;}#sk-container-id-17 div.sk-toggleable__content pre {margin: 0.2em;color: black;border-radius: 0.25em;background-color: #f0f8ff;}#sk-container-id-17 input.sk-toggleable__control:checked~div.sk-toggleable__content {max-height: 200px;max-width: 100%;overflow: auto;}#sk-container-id-17 input.sk-toggleable__control:checked~label.sk-toggleable__label-arrow:before {content: \"▾\";}#sk-container-id-17 div.sk-estimator input.sk-toggleable__control:checked~label.sk-toggleable__label {background-color: #d4ebff;}#sk-container-id-17 div.sk-label input.sk-toggleable__control:checked~label.sk-toggleable__label {background-color: #d4ebff;}#sk-container-id-17 input.sk-hidden--visually {border: 0;clip: rect(1px 1px 1px 1px);clip: rect(1px, 1px, 1px, 1px);height: 1px;margin: -1px;overflow: hidden;padding: 0;position: absolute;width: 1px;}#sk-container-id-17 div.sk-estimator {font-family: monospace;background-color: #f0f8ff;border: 1px dotted black;border-radius: 0.25em;box-sizing: border-box;margin-bottom: 0.5em;}#sk-container-id-17 div.sk-estimator:hover {background-color: #d4ebff;}#sk-container-id-17 div.sk-parallel-item::after {content: \"\";width: 100%;border-bottom: 1px solid gray;flex-grow: 1;}#sk-container-id-17 div.sk-label:hover label.sk-toggleable__label {background-color: #d4ebff;}#sk-container-id-17 div.sk-serial::before {content: \"\";position: absolute;border-left: 1px solid gray;box-sizing: border-box;top: 0;bottom: 0;left: 50%;z-index: 0;}#sk-container-id-17 div.sk-serial {display: flex;flex-direction: column;align-items: center;background-color: white;padding-right: 0.2em;padding-left: 0.2em;position: relative;}#sk-container-id-17 div.sk-item {position: relative;z-index: 1;}#sk-container-id-17 div.sk-parallel {display: flex;align-items: stretch;justify-content: center;background-color: white;position: relative;}#sk-container-id-17 div.sk-item::before, #sk-container-id-17 div.sk-parallel-item::before {content: \"\";position: absolute;border-left: 1px solid gray;box-sizing: border-box;top: 0;bottom: 0;left: 50%;z-index: -1;}#sk-container-id-17 div.sk-parallel-item {display: flex;flex-direction: column;z-index: 1;position: relative;background-color: white;}#sk-container-id-17 div.sk-parallel-item:first-child::after {align-self: flex-end;width: 50%;}#sk-container-id-17 div.sk-parallel-item:last-child::after {align-self: flex-start;width: 50%;}#sk-container-id-17 div.sk-parallel-item:only-child::after {width: 0;}#sk-container-id-17 div.sk-dashed-wrapped {border: 1px dashed gray;margin: 0 0.4em 0.5em 0.4em;box-sizing: border-box;padding-bottom: 0.4em;background-color: white;}#sk-container-id-17 div.sk-label label {font-family: monospace;font-weight: bold;display: inline-block;line-height: 1.2em;}#sk-container-id-17 div.sk-label-container {text-align: center;}#sk-container-id-17 div.sk-container {/* jupyter's `normalize.less` sets `[hidden] { display: none; }` but bootstrap.min.css set `[hidden] { display: none !important; }` so we also need the `!important` here to be able to override the default hidden behavior on the sphinx rendered scikit-learn.org. See: https://github.com/scikit-learn/scikit-learn/issues/21755 */display: inline-block !important;position: relative;}#sk-container-id-17 div.sk-text-repr-fallback {display: none;}</style><div id=\"sk-container-id-17\" class=\"sk-top-container\"><div class=\"sk-text-repr-fallback\"><pre>Ridge()</pre><b>In a Jupyter environment, please rerun this cell to show the HTML representation or trust the notebook. <br />On GitHub, the HTML representation is unable to render, please try loading this page with nbviewer.org.</b></div><div class=\"sk-container\" hidden><div class=\"sk-item\"><div class=\"sk-estimator sk-toggleable\"><input class=\"sk-toggleable__control sk-hidden--visually\" id=\"sk-estimator-id-17\" type=\"checkbox\" checked><label for=\"sk-estimator-id-17\" class=\"sk-toggleable__label sk-toggleable__label-arrow\">Ridge</label><div class=\"sk-toggleable__content\"><pre>Ridge()</pre></div></div></div></div></div>"
      ],
      "text/plain": [
       "Ridge()"
      ]
     },
     "execution_count": 319,
     "metadata": {},
     "output_type": "execute_result"
    }
   ],
   "source": [
    "from sklearn.linear_model import Ridge\n",
    "\n",
    "ridge = Ridge(alpha=1.0)\n",
    "ridge.fit(x_train, y_train)  # Assuming you have a train-test split "
   ]
  },
  {
   "cell_type": "code",
   "execution_count": 320,
   "id": "d6dc5a73",
   "metadata": {},
   "outputs": [],
   "source": [
    "yr_pred = ridge.predict(x_test)"
   ]
  },
  {
   "cell_type": "code",
   "execution_count": 321,
   "id": "605d1bd8",
   "metadata": {
    "scrolled": true
   },
   "outputs": [
    {
     "name": "stdout",
     "output_type": "stream",
     "text": [
      "R^2 Score: 0.6090994105666037\n"
     ]
    }
   ],
   "source": [
    "# Calculating the Coefficient of Determination (R^2 Score)\n",
    "r2 = r2_score(y_test, yr_pred)\n",
    "print(\"R^2 Score:\", r2)"
   ]
  },
  {
   "cell_type": "markdown",
   "id": "92ae6fa9",
   "metadata": {},
   "source": [
    "# Conclusion"
   ]
  },
  {
   "cell_type": "markdown",
   "id": "9fb9a0fe",
   "metadata": {},
   "source": [
    "Model = Poor\n",
    "\n",
    "Issues = Multicollinearity, Weak R^2, No strong linear relationship.\n",
    "\n",
    "Alternatives: Consider a different model, transform ordinal values (one-hot encode)"
   ]
  }
 ],
 "metadata": {
  "kernelspec": {
   "display_name": "Python 3 (ipykernel)",
   "language": "python",
   "name": "python3"
  },
  "language_info": {
   "codemirror_mode": {
    "name": "ipython",
    "version": 3
   },
   "file_extension": ".py",
   "mimetype": "text/x-python",
   "name": "python",
   "nbconvert_exporter": "python",
   "pygments_lexer": "ipython3",
   "version": "3.11.5"
  }
 },
 "nbformat": 4,
 "nbformat_minor": 5
}
